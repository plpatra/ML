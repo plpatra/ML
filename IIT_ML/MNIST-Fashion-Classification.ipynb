{
 "cells": [
  {
   "cell_type": "code",
   "execution_count": 1,
   "metadata": {},
   "outputs": [],
   "source": [
    "import numpy as np\n",
    "import pandas as pd\n",
    "import gzip\n",
    "import matplotlib\n",
    "import matplotlib.pyplot as plt\n",
    "from sklearn.preprocessing import StandardScaler"
   ]
  },
  {
   "cell_type": "code",
   "execution_count": 2,
   "metadata": {},
   "outputs": [],
   "source": [
    "%matplotlib inline"
   ]
  },
  {
   "cell_type": "code",
   "execution_count": 3,
   "metadata": {},
   "outputs": [],
   "source": [
    "def showImage(data):\n",
    "    some_article = data   # Selecting the image.\n",
    "    some_article_image = some_article.reshape(28, 28) # Reshaping it to get the 28x28 pixels\n",
    "    plt.imshow(some_article_image, cmap = matplotlib.cm.binary, interpolation=\"nearest\")\n",
    "    plt.axis(\"off\")\n",
    "    plt.show()"
   ]
  },
  {
   "cell_type": "code",
   "execution_count": 4,
   "metadata": {},
   "outputs": [],
   "source": [
    "filePath_train_set = 'MNIST-Fashion-data/train-images-idx3-ubyte.gz'"
   ]
  },
  {
   "cell_type": "code",
   "execution_count": 5,
   "metadata": {},
   "outputs": [],
   "source": [
    "filePath_train_label = 'MNIST-Fashion-data/train-labels-idx1-ubyte.gz'"
   ]
  },
  {
   "cell_type": "code",
   "execution_count": 6,
   "metadata": {},
   "outputs": [],
   "source": [
    "filePath_test_set = 'MNIST-Fashion-data/t10k-images-idx3-ubyte.gz'"
   ]
  },
  {
   "cell_type": "code",
   "execution_count": 7,
   "metadata": {},
   "outputs": [],
   "source": [
    "filePath_test_label = 'MNIST-Fashion-data/t10k-labels-idx1-ubyte.gz'"
   ]
  },
  {
   "cell_type": "code",
   "execution_count": 8,
   "metadata": {},
   "outputs": [],
   "source": [
    "with gzip.open(filePath_train_label, 'rb') as trainLbpath:\n",
    "     trainLabel = np.frombuffer(trainLbpath.read(), dtype=np.uint8,\n",
    "                               offset=8)\n",
    "with gzip.open(filePath_train_set, 'rb') as trainSetpath:\n",
    "     trainSet = np.frombuffer(trainSetpath.read(), dtype=np.uint8,\n",
    "                               offset=16).reshape(len(trainLabel), 784)\n",
    "\n",
    "with gzip.open(filePath_test_label, 'rb') as testLbpath:\n",
    "     testLabel = np.frombuffer(testLbpath.read(), dtype=np.uint8,\n",
    "                               offset=8)\n",
    "\n",
    "with gzip.open(filePath_test_set, 'rb') as testSetpath:\n",
    "     testSet = np.frombuffer(testSetpath.read(), dtype=np.uint8,\n",
    "                               offset=16).reshape(len(testLabel), 784)"
   ]
  },
  {
   "cell_type": "code",
   "execution_count": 9,
   "metadata": {},
   "outputs": [],
   "source": [
    "X_train = trainSet\n",
    "X_test = testSet\n",
    "y_train = trainLabel\n",
    "y_test = testLabel"
   ]
  },
  {
   "cell_type": "code",
   "execution_count": 10,
   "metadata": {},
   "outputs": [
    {
     "data": {
      "image/png": "[encoded data removed]",
      "text/plain": [
       "<Figure size 432x288 with 1 Axes>"
      ]
     },
     "metadata": {
      "needs_background": "light"
     },
     "output_type": "display_data"
    }
   ],
   "source": [
    "showImage(X_train[0])"
   ]
  },
  {
   "cell_type": "code",
   "execution_count": 11,
   "metadata": {},
   "outputs": [
    {
     "data": {
      "text/plain": [
       "9"
      ]
     },
     "execution_count": 11,
     "metadata": {},
     "output_type": "execute_result"
    }
   ],
   "source": [
    "y_train[0]"
   ]
  },
  {
   "cell_type": "code",
   "execution_count": 12,
   "metadata": {},
   "outputs": [
    {
     "data": {
      "text/plain": [
       "(10000, 784)"
      ]
     },
     "execution_count": 12,
     "metadata": {},
     "output_type": "execute_result"
    }
   ],
   "source": [
    "X_test.shape"
   ]
  },
  {
   "cell_type": "code",
   "execution_count": 13,
   "metadata": {},
   "outputs": [],
   "source": [
    " np.random.seed(42)"
   ]
  },
  {
   "cell_type": "code",
   "execution_count": 14,
   "metadata": {},
   "outputs": [],
   "source": [
    "shuffle_index = np.random.permutation(60000)"
   ]
  },
  {
   "cell_type": "code",
   "execution_count": 15,
   "metadata": {},
   "outputs": [],
   "source": [
    "X_train, y_train = X_train[shuffle_index], y_train[shuffle_index]"
   ]
  },
  {
   "cell_type": "code",
   "execution_count": 16,
   "metadata": {},
   "outputs": [
    {
     "data": {
      "text/plain": [
       "(60000, 784)"
      ]
     },
     "execution_count": 16,
     "metadata": {},
     "output_type": "execute_result"
    }
   ],
   "source": [
    "X_train.shape"
   ]
  },
  {
   "cell_type": "code",
   "execution_count": 17,
   "metadata": {},
   "outputs": [
    {
     "data": {
      "text/plain": [
       "(60000,)"
      ]
     },
     "execution_count": 17,
     "metadata": {},
     "output_type": "execute_result"
    }
   ],
   "source": [
    "y_train.shape"
   ]
  },
  {
   "cell_type": "code",
   "execution_count": 18,
   "metadata": {},
   "outputs": [
    {
     "data": {
      "image/png": "[encoded data removed]",
      "text/plain": [
       "<Figure size 432x288 with 1 Axes>"
      ]
     },
     "metadata": {
      "needs_background": "light"
     },
     "output_type": "display_data"
    }
   ],
   "source": [
    "showImage(X_train[1])"
   ]
  },
  {
   "cell_type": "code",
   "execution_count": 19,
   "metadata": {},
   "outputs": [
    {
     "data": {
      "text/plain": [
       "(784,)"
      ]
     },
     "execution_count": 19,
     "metadata": {},
     "output_type": "execute_result"
    }
   ],
   "source": [
    "X_train[1].shape"
   ]
  },
  {
   "cell_type": "code",
   "execution_count": 20,
   "metadata": {},
   "outputs": [
    {
     "data": {
      "text/plain": [
       "array([  0,   0,   0,   0,   0,   0,   0,   0,   0,   0,   0,   0,   0,\n",
       "         0,   0,   0,   0,   0,   0,   0,   0,   0,   0,   0,   0,   0,\n",
       "         0,   0,   0,   0,   0,   0,   0,   0,   0,   0,   0,   0,   0,\n",
       "         0,   0,   0,   0,   0,   0,   0,   0,   0,   0,   0,   0,   0,\n",
       "         0,   0,   0,   0,   0,   0,   0,   0,   0,   0,   0,   0,   0,\n",
       "         0,   0,   0,   0,   0,   0,   0,   0,   0,   0,   0,   0,   0,\n",
       "         0,   0,   0,   0,   0,   0,   0,   0,   0,   0,   0,   0,   0,\n",
       "         0,   0,   0,   0,   0,   0,   0,   0,   0,   0,   0,   0,   0,\n",
       "         0,   0,   0,   0,   0,   0,   0,   0,   0,   0,   0,   0,   0,\n",
       "         0,   0,   0,   0,   0,   0,   0,   0,   0,   0,   0,   0,   0,\n",
       "         0,   0,   0,   0,   0,   0,   0,   0,   0,   0,   0,   1,   0,\n",
       "         0,   0,   0,  29,  51,  91, 124, 114, 116, 118,  99,  95,  95,\n",
       "        96,  91,  65,  49,  25,   3,   0,   0,   0,   0,   1,   0,   0,\n",
       "         0,   0, 156, 176, 190, 203, 211, 212, 209, 234, 234, 233, 240,\n",
       "       241, 241, 211, 212, 213, 215, 212, 201, 185, 176,  38,   0,   0,\n",
       "         0,   0,  25, 201, 213, 195, 192, 187, 184, 183, 184, 183, 181,\n",
       "       186, 178, 178, 177, 178, 180, 180, 179, 180, 185, 192, 208, 218,\n",
       "       105,   0,   0,   0, 180, 209, 179, 192, 192, 192, 193, 194, 190,\n",
       "       203, 191, 191, 185, 189, 187, 184, 191, 188, 187, 187, 187, 188,\n",
       "       183, 189, 214,   8,   0,  53, 225, 181, 195, 190, 192, 191, 191,\n",
       "       189, 188, 191, 202, 224, 230, 215, 205, 199, 185, 186, 188, 189,\n",
       "       193, 191, 192, 184, 216, 125,   0, 103, 210, 184, 194, 190, 192,\n",
       "       191, 191, 191, 182, 223, 117,   0,  18,   9,   9, 210, 190, 185,\n",
       "       189, 190, 189, 187, 196, 186, 202, 168,   0, 126, 208, 187, 194,\n",
       "       192, 192, 190, 190, 190, 177, 226, 124,   0,  92,  57,   4, 221,\n",
       "       194, 193, 196, 196, 193, 188, 190, 187, 196, 189,   0,  83, 235,\n",
       "       190, 199, 198, 198, 194, 193, 194, 188, 221, 134,   0, 112, 115,\n",
       "        18, 223, 196, 195, 203, 206, 199, 196, 191, 190, 196, 203,   0,\n",
       "        47, 237, 193, 198, 202, 201, 199, 197, 200, 185, 234, 108,   0,\n",
       "        25,  22,   0, 218, 203, 199, 206, 208, 206, 202, 197, 193, 193,\n",
       "       208,  14,  37, 240, 194, 199, 203, 203, 204, 202, 199, 196, 215,\n",
       "       188, 146, 166, 146, 154, 222, 196, 203, 206, 204, 207, 208, 203,\n",
       "       198, 192, 213,  34,  62, 250, 190, 202, 197, 203, 204, 201, 198,\n",
       "       201, 197, 223, 230, 214, 227, 224, 196, 200, 207, 205, 197, 203,\n",
       "       212, 207, 201, 193, 246,  14,  64, 214, 196, 200, 193, 198, 202,\n",
       "       201, 204, 202, 201, 198, 195, 201, 198, 200, 203, 203, 205, 204,\n",
       "       198, 200, 203, 204, 201, 196, 219,  53,  44, 215, 203, 202, 199,\n",
       "       202, 204, 208, 208, 207, 207, 209, 213, 212, 211, 210, 211, 209,\n",
       "       206, 207, 206, 202, 201, 203, 210, 197, 234, 109,  48, 222, 201,\n",
       "       214, 210, 210, 210, 209, 207, 205, 211, 211, 209, 208, 208, 208,\n",
       "       208, 209, 211, 212, 211, 209, 213, 211, 213, 198, 236,  60,  33,\n",
       "       217, 207, 214, 211, 211, 210, 208, 210, 213, 212, 209, 204, 209,\n",
       "       209, 209, 208, 209, 209, 211, 213, 211, 211, 214, 210, 208, 207,\n",
       "         0,  20, 206, 213, 212, 210, 213, 212, 211, 213, 215, 210, 211,\n",
       "       213, 213, 213, 213, 213, 212, 210, 213, 216, 216, 214, 210, 208,\n",
       "       223, 181,   0,   7, 205, 207, 207, 206, 207, 207, 207, 206, 201,\n",
       "       200, 201, 202, 201, 201, 201, 201, 202, 201, 202, 203, 203, 208,\n",
       "       209, 204, 225, 152,   0,   0, 210, 233, 228, 228, 255, 255, 255,\n",
       "       252, 250, 251, 250, 250, 252, 252, 251, 252, 250, 246, 248, 250,\n",
       "       251, 247, 228, 225, 250, 120,   0,   0,  70, 104, 108, 111, 111,\n",
       "       111, 110, 115, 122, 120, 120, 120, 120, 120, 120, 120, 120, 122,\n",
       "       124, 126, 128, 133, 122, 104, 117,  37,   0,   0,   0,   0,   0,\n",
       "         0,   0,   0,   0,   0,   0,   0,   0,   0,   0,   0,   0,   0,\n",
       "         0,   0,   0,   0,   0,   0,   0,   0,   0,   0,   0,   0,   0,\n",
       "         0,   0,   0,   0,   0,   0,   0,   0,   0,   0,   0,   0,   0,\n",
       "         0,   0,   0,   0,   0,   0,   0,   0,   0,   0,   0,   0,   0,\n",
       "         0,   0,   0,   0,   0,   0,   0,   0,   0,   0,   0,   0,   0,\n",
       "         0,   0,   0,   0,   0,   0,   0,   0,   0,   0,   0,   0,   0,\n",
       "         0,   0,   0,   0,   0,   0,   0,   0,   0,   0,   0,   0,   0,\n",
       "         0,   0,   0,   0,   0,   0,   0,   0,   0,   0,   0,   0,   0,\n",
       "         0,   0,   0,   0], dtype=uint8)"
      ]
     },
     "execution_count": 20,
     "metadata": {},
     "output_type": "execute_result"
    }
   ],
   "source": [
    "X_train[1]"
   ]
  },
  {
   "cell_type": "code",
   "execution_count": 21,
   "metadata": {},
   "outputs": [
    {
     "data": {
      "text/plain": [
       "8"
      ]
     },
     "execution_count": 21,
     "metadata": {},
     "output_type": "execute_result"
    }
   ],
   "source": [
    "y_train[1]"
   ]
  },
  {
   "cell_type": "code",
   "execution_count": 22,
   "metadata": {},
   "outputs": [
    {
     "data": {
      "text/plain": [
       "(60000,)"
      ]
     },
     "execution_count": 22,
     "metadata": {},
     "output_type": "execute_result"
    }
   ],
   "source": [
    "y_train.shape"
   ]
  },
  {
   "cell_type": "code",
   "execution_count": 23,
   "metadata": {},
   "outputs": [],
   "source": [
    "scaler = StandardScaler()"
   ]
  },
  {
   "cell_type": "code",
   "execution_count": 24,
   "metadata": {},
   "outputs": [],
   "source": [
    " X_train_scaled = scaler.fit_transform(X_train.astype(np.float64))"
   ]
  },
  {
   "cell_type": "code",
   "execution_count": 25,
   "metadata": {},
   "outputs": [
    {
     "data": {
      "text/plain": [
       "array([-0.00864371, -0.02322333, -0.03917806, -0.04132172, -0.05764574,\n",
       "       -0.07116733, -0.09887846, -0.15665259, -0.19712661, -0.37782706,\n",
       "       -0.57054527, -0.69403914,  0.37741081,  1.4298268 ,  0.00707357,\n",
       "       -0.07055439,  0.93319955,  1.29446777, -0.50439979, -0.31993203,\n",
       "       -0.15385759, -0.06939097, -0.10981155, -0.09222425, -0.06827667,\n",
       "       -0.05051678, -0.0332743 , -0.01362235, -0.01257211, -0.0178614 ,\n",
       "       -0.03304933, -0.05590652, -0.07809375, -0.13108968, -0.24379931,\n",
       "       -0.36394987, -0.4880071 , -0.64360797, -0.83405052, -0.39205226,\n",
       "        1.33113269,  1.23374138,  1.42658452,  1.35358907,  1.25533926,\n",
       "        1.55580481,  1.42796723, -0.59446618, -0.44141589, -0.31630739,\n",
       "       -0.20743702, -0.14894698, -0.11854528, -0.09005845, -0.05847776,\n",
       "       -0.02894636, -0.01552501, -0.02550164, -0.04603359, -0.07369479,\n",
       "        0.0546704 , -0.24069464, -0.38625307, -0.50240771, -0.62994171,\n",
       "       -0.82213813, -0.90938292,  1.21360651,  1.4162253 ,  1.19332685,\n",
       "        1.20052437,  1.19751579,  1.23315946,  1.35170153,  1.74834424,\n",
       "       -0.22923952, -0.48876487, -0.48272169, -0.37185599, -0.21284824,\n",
       "       -0.16990354, -0.12987352, -0.08776806, -0.05104194, -0.02528823,\n",
       "       -0.04090184, -0.06615758, -0.10373973, -0.21458636, -0.33303121,\n",
       "       -0.47735225, -0.638254  ,  0.88071586,  1.74973918,  1.46009499,\n",
       "        0.56734961,  1.47811287,  1.3211822 ,  1.30884345,  1.33277562,\n",
       "        1.30359737,  1.49725571,  0.74009129,  1.40280852,  2.28065276,\n",
       "        1.49134038, -0.48715912, -0.27031019, -0.23405951, -0.17250812,\n",
       "       -0.11909081, -0.07178061, -0.0387036 , -0.06236771, -0.09134164,\n",
       "       -0.14997281, -0.28894829, -0.39106043, -0.61001981, -0.05507678,\n",
       "        0.97157073,  0.99317112, -1.03574203, -1.11140327,  1.62113326,\n",
       "        1.35324286,  1.28804958,  1.25840652,  1.22395555,  1.61926721,\n",
       "        0.08092885, -0.4433939 ,  1.54878382,  1.00046787, -0.43326411,\n",
       "       -0.44247119, -0.31012887, -0.22820271, -0.1631947 , -0.09778169,\n",
       "       -0.05277385, -0.08553474, -0.12320564, -0.19988408, -0.30904589,\n",
       "       -0.53277358, -0.67394004,  1.22296713,  1.31522289,  1.21979286,\n",
       "       -1.10665175, -1.13128628,  1.64735422,  1.35797135,  1.34092824,\n",
       "        1.30681331,  1.1589452 ,  1.58955218,  0.10502256, -1.13335096,\n",
       "        1.78298976,  1.39968682,  1.72027683, -0.53329173, -0.38920724,\n",
       "       -0.29583093, -0.21582075, -0.12499384, -0.06747663, -0.10782708,\n",
       "       -0.15469901, -0.24553004, -0.27855966, -0.58906659,  0.41738244,\n",
       "        0.84868541,  1.0806063 ,  0.53710332, -1.12900065, -0.70127487,\n",
       "        1.64792781,  1.31505383,  1.29945628,  1.29675707,  1.16541719,\n",
       "        1.56099184,  0.50127716, -1.21919805,  1.51789923,  1.01596096,\n",
       "        1.21585385,  0.17808635, -0.46027823, -0.36324039, -0.26152519,\n",
       "       -0.14734593, -0.08522363, -0.13066469, -0.18455691, -0.28514856,\n",
       "       -0.44209898, -0.6306955 ,  1.27188657,  1.14182496,  1.3851623 ,\n",
       "       -0.6439014 , -1.14641003,  0.43319779,  1.57932755,  1.22923137,\n",
       "        1.26854865,  1.18400065,  1.11970367,  1.34203159,  1.41015836,\n",
       "       -1.29817917,  0.30736143,  1.40452357,  1.27191467,  1.05717065,\n",
       "       -0.52833674, -0.4259108 , -0.30379662, -0.16430184, -0.0964996 ,\n",
       "       -0.1496046 , -0.21081783, -0.31549874, -0.47222992,  0.00616007,\n",
       "        0.74885312,  1.1584686 ,  1.39071324, -1.07034078, -1.15960337,\n",
       "        1.4543162 ,  1.4429986 ,  1.26153739,  1.30451392,  1.15019706,\n",
       "        1.14663885,  1.13273978,  1.519941  , -1.36313462, -1.1792693 ,\n",
       "        1.63196039,  0.78405624,  0.86103844, -0.59588747, -0.48877629,\n",
       "       -0.34725508, -0.18639255, -0.1064871 , -0.16643   , -0.22885508,\n",
       "       -0.33565411, -0.49362236,  0.74885096,  0.8134313 ,  1.30068743,\n",
       "       -0.16917388, -1.07358657, -1.17964225,  1.61630557,  1.30728056,\n",
       "        1.29412533,  1.29213763,  1.07847776,  1.1024099 ,  1.05492978,\n",
       "        1.48062685, -0.76618918, -1.23546274,  1.04650038,  1.09104208,\n",
       "        0.88813582,  0.24818136, -0.55970462, -0.39767577, -0.21485073,\n",
       "       -0.11664948, -0.17992321, -0.23713156, -0.34065917,  0.65594426,\n",
       "        1.2580578 ,  1.2343646 ,  0.92150715, -0.95732851, -1.07795582,\n",
       "       -0.82328162,  1.49357039,  1.21733233,  1.27462423,  1.27793102,\n",
       "        1.08332592,  1.1241875 ,  1.03924434,  1.44620049,  0.05703548,\n",
       "       -1.27556545, -0.14594615,  1.31748446,  1.12951762,  1.2387117 ,\n",
       "       -0.6194525 , -0.45419206, -0.24107042, -0.13007545, -0.19216759,\n",
       "       -0.2383067 , -0.33531038, -0.47047578,  0.9759746 ,  1.60658647,\n",
       "        0.20471722, -0.97506495, -1.11843343, -0.20024535,  1.44278272,\n",
       "        1.13134269,  1.23286533,  1.23608442,  1.07894871,  1.09558487,\n",
       "        1.01580889,  1.22713029,  0.38658484, -1.35192597, -1.21109053,\n",
       "        1.0188917 ,  1.17232919,  0.06953919, -0.65323847, -0.50652292,\n",
       "       -0.26971893, -0.14427641, -0.20364964, -0.24589361, -0.33860285,\n",
       "       -0.50433937, -0.67324005,  0.40892077, -0.8237014 , -1.03562871,\n",
       "       -1.24528908,  0.46531432,  1.39203261,  1.08433637,  1.20616992,\n",
       "        1.185563  ,  1.05741808,  1.07639965,  0.99381152,  1.14584809,\n",
       "        0.79377182, -1.42894054, -1.26699972, -0.3240682 , -0.92038655,\n",
       "       -0.77407718, -0.66866669, -0.5442604 , -0.30315251, -0.15285127,\n",
       "       -0.21858798, -0.26390838, -0.36016049, -0.52329123, -0.7118022 ,\n",
       "       -0.82695644, -0.95125921, -1.12267557, -1.35236496,  0.47485855,\n",
       "        1.35305542,  1.04425688,  1.13743629,  1.13784171,  1.02197936,\n",
       "        1.04568835,  0.92588568,  1.12273104,  1.05965103, -1.43016351,\n",
       "       -1.27690442, -1.15960646, -0.99679007, -0.78784193, -0.67626391,\n",
       "       -0.56981605, -0.33483839, -0.18233383, -0.27265711, -0.32529278,\n",
       "       -0.42629759, -0.61567528, -0.78416821, -0.85524055, -0.99023832,\n",
       "       -1.16662797, -1.43474395,  0.65346273,  1.35026934,  0.98022901,\n",
       "        1.17543999,  1.13795195,  1.04938384,  1.03259685,  0.97996715,\n",
       "        1.11503488,  1.20550163, -1.40525282, -1.26863984, -1.11899474,\n",
       "       -0.98928699, -0.80195601, -0.68451817, -0.59464067, -0.36438474,\n",
       "       -0.24963437, -0.35367619, -0.39851828, -0.49565208, -0.68969449,\n",
       "       -0.85611262, -0.94241852, -1.03561679, -1.22250944, -1.55214489,\n",
       "        0.8768186 ,  1.30677742,  1.03014637,  1.15966632,  1.14563699,\n",
       "        1.07058346,  1.09094085,  0.98437387,  1.07218756,  1.34575335,\n",
       "       -1.40262905, -1.2691077 , -1.15633962, -1.0281967 , -0.82477563,\n",
       "       -0.69831597, -0.61644166, -0.39051021, -0.31045199, -0.40313977,\n",
       "       -0.44656661, -0.54777665, -0.74737852, -0.90423701, -0.99154697,\n",
       "       -1.08682093, -1.29763315, -1.6847975 ,  0.91121884,  1.30792313,\n",
       "        1.15412688,  1.23084974,  1.23055462,  1.09172204,  1.09932675,\n",
       "        1.17482652,  1.12589205,  1.43814067, -1.38171693, -1.24864467,\n",
       "       -1.13946616, -1.03835916, -0.84257293, -0.7085525 , -0.62634245,\n",
       "       -0.41046364, -0.32255935, -0.432812  , -0.48626339, -0.59148119,\n",
       "       -0.79334195, -0.93883113, -1.02554414, -1.12302858, -1.35251488,\n",
       "       -1.76872819,  0.95539753,  1.15324786,  0.29098241,  1.11038864,\n",
       "        0.96583858,  1.28933476,  0.94761535,  0.9360661 ,  0.74856564,\n",
       "        1.46304795, -1.30937648, -1.18992099, -1.096016  , -1.016174  ,\n",
       "       -0.83094961, -0.69054533, -0.60882709, -0.4070712 , -0.2939847 ,\n",
       "       -0.43126666, -0.50227154, -0.61373956, -0.81562357, -0.94941375,\n",
       "       -1.03325008, -1.13031408, -1.36531846, -1.7547014 ,  0.876289  ,\n",
       "        0.56295853, -0.22898522,  0.64607205,  0.6010999 ,  0.97533956,\n",
       "        0.46409445,  0.35737288,  0.24848874,  1.48657996, -1.23504033,\n",
       "       -1.13362052, -1.04157731, -0.98632181, -0.81183299, -0.66772097,\n",
       "       -0.58494182, -0.39644479, -0.27315662, -0.40160299, -0.47716524,\n",
       "       -0.59814417, -0.80241399, -0.92658489, -1.00958067, -1.10699302,\n",
       "       -1.33494144, -1.67608101,  0.91618451,  0.44342119,  0.60615924,\n",
       "        0.28672185,  0.17583642,  0.95315393,  0.154154  ,  0.47540399,\n",
       "       -0.22185818,  1.51093604, -1.05214609, -1.08247008, -0.98933993,\n",
       "       -0.95477894, -0.78806147, -0.64021416, -0.54650465, -0.35879367,\n",
       "       -0.26333929, -0.38095444, -0.44983468, -0.56649982, -0.7669243 ,\n",
       "       -0.88673026, -0.96634349, -1.04489234, -1.27340087, -1.5648308 ,\n",
       "        1.21659048,  0.84476061,  0.36549336,  0.52296595,  0.46620166,\n",
       "        1.14744166,  0.907455  ,  0.25384633,  0.06767497,  1.21744411,\n",
       "       -0.7630394 , -0.99596772, -0.90436602, -0.89027073, -0.73392461,\n",
       "       -0.58070806, -0.4779644 , -0.30347067, -0.24718295, -0.35301119,\n",
       "       -0.42185521, -0.53942912, -0.73259351, -0.8403135 , -0.90850324,\n",
       "       -0.95945641, -1.18984488, -1.42911879,  0.75930735,  0.81761333,\n",
       "       -0.09916474,  0.44742483,  0.52766915,  1.05572512,  0.83904356,\n",
       "       -0.01083543,  0.59523917,  1.50063463, -0.39762431, -0.90559317,\n",
       "       -0.80417654, -0.81760419, -0.67016371, -0.52066581, -0.42336625,\n",
       "       -0.26967668, -0.2185877 , -0.31187625, -0.37966098, -0.49814632,\n",
       "       -0.68568334, -0.78627384, -0.85051084, -0.89162771, -1.11317037,\n",
       "       -1.3176949 ,  0.94847895,  0.93655799,  0.62953908,  0.88509161,\n",
       "        0.94677259,  1.41577503,  0.98561022,  0.32773584,  0.75351334,\n",
       "        1.56867109, -0.19138996, -0.834861  , -0.76809359, -0.75498039,\n",
       "       -0.61572986, -0.46653942, -0.37072961, -0.2298913 , -0.18508053,\n",
       "       -0.26382263, -0.33358173, -0.45386163, -0.6345651 , -0.7261454 ,\n",
       "       -0.7821498 , -0.79800581, -1.01430162, -1.18828422,  0.74739663,\n",
       "        0.68136085,  0.36768499,  0.53958361,  0.79491937,  0.85661664,\n",
       "        1.03518749,  0.65881167,  0.75903897,  1.59994326, -0.30988771,\n",
       "       -0.76167548, -0.69983957, -0.69122762, -0.55761867, -0.40750986,\n",
       "       -0.3129627 , -0.18758767, -0.1398625 , -0.21147602, -0.28346082,\n",
       "       -0.40690103, -0.58467405, -0.6727265 , -0.7231625 , -0.72275763,\n",
       "       -0.91715559, -1.06688162,  0.89603282,  0.62477708,  0.12971204,\n",
       "        0.3004862 ,  0.70206898,  0.9728859 ,  0.85336716,  0.12665938,\n",
       "        0.01013157,  1.52533754,  0.55575905, -0.70190261, -0.60003726,\n",
       "       -0.63845425, -0.50685478, -0.35493142, -0.26152754, -0.15049193,\n",
       "       -0.10000649, -0.16163528, -0.23385237, -0.35825792, -0.53327855,\n",
       "       -0.61989942, -0.66331587, -0.62851782, -0.80785215, -0.83225221,\n",
       "        1.30971179,  0.99429093,  0.3450779 ,  0.53480916,  1.14532287,\n",
       "        1.27650282,  1.21199399,  0.39187134,  0.49663764,  1.77773679,\n",
       "        1.39081187, -0.64295929, -0.54353391, -0.58255601, -0.45287254,\n",
       "       -0.29742739, -0.20892432, -0.11137299, -0.05617561, -0.10437285,\n",
       "       -0.17772606, -0.30551127, -0.47483839, -0.55913847, -0.59387784,\n",
       "       -0.53677556, -0.67836016, -0.59688765,  1.05003738,  0.67817421,\n",
       "        0.79264561,  0.96306769,  1.05269278,  0.77303768,  0.75761   ,\n",
       "        1.09574546,  0.8175679 ,  1.49392398, -0.22520002, -0.57135985,\n",
       "       -0.52630102, -0.52047118, -0.39816627, -0.24255913, -0.1551864 ,\n",
       "       -0.07603711, -0.02515919, -0.04823348, -0.10154972, -0.20911958,\n",
       "       -0.3404624 , -0.42581867, -0.43642851, -0.4054615 , -0.45693769,\n",
       "       -0.55452302, -0.67207201, -0.75247699,  0.04844976, -0.58517928,\n",
       "       -0.64326418, -0.67752673, -0.22007374,  0.21978589,  0.51141443,\n",
       "        0.01618965, -0.39425989, -0.40609402, -0.44135849, -0.39662626,\n",
       "       -0.28815575, -0.15681128, -0.08967308, -0.03414729])"
      ]
     },
     "execution_count": 25,
     "metadata": {},
     "output_type": "execute_result"
    }
   ],
   "source": [
    "X_train_scaled[10]"
   ]
  },
  {
   "cell_type": "code",
   "execution_count": 26,
   "metadata": {},
   "outputs": [],
   "source": [
    "from sklearn.metrics import accuracy_score\n",
    "from sklearn.metrics import precision_score, recall_score\n",
    "from sklearn.metrics import f1_score, classification_report\n",
    "from sklearn.metrics import confusion_matrix"
   ]
  },
  {
   "cell_type": "code",
   "execution_count": 27,
   "metadata": {},
   "outputs": [],
   "source": [
    "from sklearn.linear_model import SGDClassifier"
   ]
  },
  {
   "cell_type": "code",
   "execution_count": 28,
   "metadata": {},
   "outputs": [],
   "source": [
    "sgd_clf = SGDClassifier(random_state=42)"
   ]
  },
  {
   "cell_type": "code",
   "execution_count": 29,
   "metadata": {},
   "outputs": [
    {
     "name": "stderr",
     "output_type": "stream",
     "text": [
      "/anaconda3/lib/python3.7/site-packages/sklearn/linear_model/stochastic_gradient.py:166: FutureWarning: max_iter and tol parameters have been added in SGDClassifier in 0.19. If both are left unset, they default to max_iter=5 and tol=None. If tol is not None, max_iter defaults to max_iter=1000. From 0.21, default max_iter will be 1000, and default tol will be 1e-3.\n",
      "  FutureWarning)\n"
     ]
    },
    {
     "data": {
      "text/plain": [
       "SGDClassifier(alpha=0.0001, average=False, class_weight=None,\n",
       "       early_stopping=False, epsilon=0.1, eta0=0.0, fit_intercept=True,\n",
       "       l1_ratio=0.15, learning_rate='optimal', loss='hinge', max_iter=None,\n",
       "       n_iter=None, n_iter_no_change=5, n_jobs=None, penalty='l2',\n",
       "       power_t=0.5, random_state=42, shuffle=True, tol=None,\n",
       "       validation_fraction=0.1, verbose=0, warm_start=False)"
      ]
     },
     "execution_count": 29,
     "metadata": {},
     "output_type": "execute_result"
    }
   ],
   "source": [
    "sgd_clf.fit(X_train_scaled, y_train)"
   ]
  },
  {
   "cell_type": "code",
   "execution_count": 30,
   "metadata": {},
   "outputs": [],
   "source": [
    "y_train_predict = sgd_clf.predict(X_train[0].reshape(1, -1))"
   ]
  },
  {
   "cell_type": "code",
   "execution_count": 31,
   "metadata": {},
   "outputs": [
    {
     "data": {
      "text/plain": [
       "8"
      ]
     },
     "execution_count": 31,
     "metadata": {},
     "output_type": "execute_result"
    }
   ],
   "source": [
    "y_train[0] "
   ]
  },
  {
   "cell_type": "code",
   "execution_count": 32,
   "metadata": {},
   "outputs": [
    {
     "data": {
      "text/plain": [
       "8"
      ]
     },
     "execution_count": 32,
     "metadata": {},
     "output_type": "execute_result"
    }
   ],
   "source": [
    "y_train_predict[0]"
   ]
  },
  {
   "cell_type": "code",
   "execution_count": 33,
   "metadata": {},
   "outputs": [
    {
     "data": {
      "image/png": "[encoded data removed]",
      "text/plain": [
       "<Figure size 432x288 with 1 Axes>"
      ]
     },
     "metadata": {
      "needs_background": "light"
     },
     "output_type": "display_data"
    }
   ],
   "source": [
    "showImage(X_train[0])"
   ]
  },
  {
   "cell_type": "code",
   "execution_count": 34,
   "metadata": {},
   "outputs": [],
   "source": [
    "y_train_predict = sgd_clf.predict(X_train_scaled)"
   ]
  },
  {
   "cell_type": "code",
   "execution_count": 35,
   "metadata": {},
   "outputs": [],
   "source": [
    "sgd_accuracy = accuracy_score(y_train, y_train_predict)\n",
    "sgd_precision = precision_score(y_train, y_train_predict, average='weighted')\n",
    "sgd_recall = recall_score(y_train, y_train_predict, average='weighted')\n",
    "sgd_f1_score = f1_score(y_train, y_train_predict, average='weighted')\n",
    "sgd_class_report = classification_report(y_train, y_train_predict)"
   ]
  },
  {
   "cell_type": "code",
   "execution_count": 36,
   "metadata": {},
   "outputs": [
    {
     "name": "stdout",
     "output_type": "stream",
     "text": [
      "Accuracy is ::  0.8460833333333333\n",
      "Precision is ::  0.8452191984816628\n",
      "Recall is ::  0.8460833333333333\n",
      "F1_score ::  0.8438106231931057\n"
     ]
    }
   ],
   "source": [
    "print (\"Accuracy is :: \" , sgd_accuracy)\n",
    "print (\"Precision is :: \" , sgd_precision)\n",
    "print (\"Recall is :: \" , sgd_recall)\n",
    "print (\"F1_score :: \" , sgd_f1_score)\n"
   ]
  },
  {
   "cell_type": "code",
   "execution_count": 37,
   "metadata": {},
   "outputs": [
    {
     "name": "stdout",
     "output_type": "stream",
     "text": [
      "SGDClassifier Classification Report ::                precision    recall  f1-score   support\n",
      "\n",
      "           0       0.81      0.82      0.82      6000\n",
      "           1       0.98      0.96      0.97      6000\n",
      "           2       0.73      0.78      0.75      6000\n",
      "           3       0.75      0.90      0.82      6000\n",
      "           4       0.76      0.72      0.74      6000\n",
      "           5       0.96      0.93      0.94      6000\n",
      "           6       0.70      0.54      0.61      6000\n",
      "           7       0.93      0.91      0.92      6000\n",
      "           8       0.91      0.95      0.93      6000\n",
      "           9       0.92      0.97      0.94      6000\n",
      "\n",
      "   micro avg       0.85      0.85      0.85     60000\n",
      "   macro avg       0.85      0.85      0.84     60000\n",
      "weighted avg       0.85      0.85      0.84     60000\n",
      "\n"
     ]
    }
   ],
   "source": [
    "print (\"SGDClassifier Classification Report :: \" , sgd_class_report)"
   ]
  },
  {
   "cell_type": "code",
   "execution_count": 38,
   "metadata": {},
   "outputs": [],
   "source": [
    "#Training Model using Softmax Regression (multi-class classification problem)"
   ]
  },
  {
   "cell_type": "code",
   "execution_count": 39,
   "metadata": {},
   "outputs": [],
   "source": [
    "from sklearn.linear_model import LogisticRegression\n",
    "log_clf = LogisticRegression(multi_class=\"multinomial\", solver=\"lbfgs\", C=10,random_state=42)"
   ]
  },
  {
   "cell_type": "code",
   "execution_count": 40,
   "metadata": {},
   "outputs": [
    {
     "name": "stderr",
     "output_type": "stream",
     "text": [
      "/anaconda3/lib/python3.7/site-packages/sklearn/linear_model/logistic.py:758: ConvergenceWarning: lbfgs failed to converge. Increase the number of iterations.\n",
      "  \"of iterations.\", ConvergenceWarning)\n"
     ]
    },
    {
     "data": {
      "text/plain": [
       "LogisticRegression(C=10, class_weight=None, dual=False, fit_intercept=True,\n",
       "          intercept_scaling=1, max_iter=100, multi_class='multinomial',\n",
       "          n_jobs=None, penalty='l2', random_state=42, solver='lbfgs',\n",
       "          tol=0.0001, verbose=0, warm_start=False)"
      ]
     },
     "execution_count": 40,
     "metadata": {},
     "output_type": "execute_result"
    }
   ],
   "source": [
    "log_clf.fit(X_train_scaled, y_train)"
   ]
  },
  {
   "cell_type": "code",
   "execution_count": 41,
   "metadata": {},
   "outputs": [
    {
     "data": {
      "text/plain": [
       "8"
      ]
     },
     "execution_count": 41,
     "metadata": {},
     "output_type": "execute_result"
    }
   ],
   "source": [
    "y_train[0] \n"
   ]
  },
  {
   "cell_type": "code",
   "execution_count": 42,
   "metadata": {},
   "outputs": [
    {
     "data": {
      "text/plain": [
       "8"
      ]
     },
     "execution_count": 42,
     "metadata": {},
     "output_type": "execute_result"
    }
   ],
   "source": [
    "y_train_predict[0]\n"
   ]
  },
  {
   "cell_type": "code",
   "execution_count": 43,
   "metadata": {},
   "outputs": [
    {
     "data": {
      "image/png": "[encoded data removed]",
      "text/plain": [
       "<Figure size 432x288 with 1 Axes>"
      ]
     },
     "metadata": {
      "needs_background": "light"
     },
     "output_type": "display_data"
    }
   ],
   "source": [
    "showImage(X_train[0])"
   ]
  },
  {
   "cell_type": "code",
   "execution_count": 44,
   "metadata": {},
   "outputs": [],
   "source": [
    "y_train_predict = log_clf.predict(X_train_scaled)"
   ]
  },
  {
   "cell_type": "code",
   "execution_count": 45,
   "metadata": {},
   "outputs": [],
   "source": [
    "log_accuracy = accuracy_score(y_train, y_train_predict)\n",
    "log_precision = precision_score(y_train, y_train_predict, average='weighted')\n",
    "log_recall = recall_score(y_train, y_train_predict, average='weighted')\n",
    "log_f1_score = f1_score(y_train, y_train_predict, average='weighted')\n",
    "log_report = classification_report(y_train, y_train_predict)"
   ]
  },
  {
   "cell_type": "code",
   "execution_count": 46,
   "metadata": {},
   "outputs": [
    {
     "name": "stdout",
     "output_type": "stream",
     "text": [
      "------------Different score for LogisticRegression\n",
      "Accuracy is ::  0.87755\n",
      "Precision is ::  0.8766648092442357\n",
      "Recall is ::  0.87755\n",
      "F1_score ::  0.8769448048542856\n"
     ]
    }
   ],
   "source": [
    "print (\"------------Different score for LogisticRegression\")\n",
    "print (\"Accuracy is :: \" , log_accuracy)\n",
    "print (\"Precision is :: \" , log_precision)\n",
    "print (\"Recall is :: \" , log_recall)\n",
    "print (\"F1_score :: \" , log_f1_score)"
   ]
  },
  {
   "cell_type": "code",
   "execution_count": 47,
   "metadata": {},
   "outputs": [
    {
     "name": "stdout",
     "output_type": "stream",
     "text": [
      "LogisticRegression Classification Report ::                precision    recall  f1-score   support\n",
      "\n",
      "           0       0.82      0.85      0.84      6000\n",
      "           1       0.98      0.98      0.98      6000\n",
      "           2       0.79      0.78      0.78      6000\n",
      "           3       0.88      0.90      0.89      6000\n",
      "           4       0.78      0.81      0.80      6000\n",
      "           5       0.96      0.95      0.95      6000\n",
      "           6       0.70      0.65      0.67      6000\n",
      "           7       0.93      0.95      0.94      6000\n",
      "           8       0.96      0.96      0.96      6000\n",
      "           9       0.96      0.96      0.96      6000\n",
      "\n",
      "   micro avg       0.88      0.88      0.88     60000\n",
      "   macro avg       0.88      0.88      0.88     60000\n",
      "weighted avg       0.88      0.88      0.88     60000\n",
      "\n"
     ]
    }
   ],
   "source": [
    "print (\"LogisticRegression Classification Report :: \" , log_report)"
   ]
  },
  {
   "cell_type": "code",
   "execution_count": 48,
   "metadata": {},
   "outputs": [],
   "source": [
    "#Training the model using DecisionTreeClassifier"
   ]
  },
  {
   "cell_type": "code",
   "execution_count": 49,
   "metadata": {},
   "outputs": [],
   "source": [
    "from sklearn.tree import DecisionTreeClassifier\n",
    "dec_tree_clf = DecisionTreeClassifier(max_depth=50, random_state=42)"
   ]
  },
  {
   "cell_type": "code",
   "execution_count": 50,
   "metadata": {},
   "outputs": [
    {
     "data": {
      "text/plain": [
       "DecisionTreeClassifier(class_weight=None, criterion='gini', max_depth=50,\n",
       "            max_features=None, max_leaf_nodes=None,\n",
       "            min_impurity_decrease=0.0, min_impurity_split=None,\n",
       "            min_samples_leaf=1, min_samples_split=2,\n",
       "            min_weight_fraction_leaf=0.0, presort=False, random_state=42,\n",
       "            splitter='best')"
      ]
     },
     "execution_count": 50,
     "metadata": {},
     "output_type": "execute_result"
    }
   ],
   "source": [
    "## Scaling is not needed for Decision Tree algorithm , hence X_train has been used\n",
    "dec_tree_clf.fit(X_train, y_train)"
   ]
  },
  {
   "cell_type": "code",
   "execution_count": 53,
   "metadata": {},
   "outputs": [],
   "source": [
    "y_train_predict = dec_tree_clf.predict(X_train[1].reshape(1, -1))"
   ]
  },
  {
   "cell_type": "code",
   "execution_count": 54,
   "metadata": {},
   "outputs": [
    {
     "data": {
      "text/plain": [
       "8"
      ]
     },
     "execution_count": 54,
     "metadata": {},
     "output_type": "execute_result"
    }
   ],
   "source": [
    "y_train[0]"
   ]
  },
  {
   "cell_type": "code",
   "execution_count": 55,
   "metadata": {},
   "outputs": [
    {
     "data": {
      "text/plain": [
       "8"
      ]
     },
     "execution_count": 55,
     "metadata": {},
     "output_type": "execute_result"
    }
   ],
   "source": [
    "y_train_predict[0]"
   ]
  },
  {
   "cell_type": "code",
   "execution_count": 56,
   "metadata": {},
   "outputs": [
    {
     "data": {
      "image/png": "[encoded data removed]",
      "text/plain": [
       "<Figure size 432x288 with 1 Axes>"
      ]
     },
     "metadata": {
      "needs_background": "light"
     },
     "output_type": "display_data"
    }
   ],
   "source": [
    "showImage(X_train[0])"
   ]
  },
  {
   "cell_type": "code",
   "execution_count": 57,
   "metadata": {},
   "outputs": [],
   "source": [
    "y_train_predict = dec_tree_clf.predict(X_train)"
   ]
  },
  {
   "cell_type": "code",
   "execution_count": 58,
   "metadata": {},
   "outputs": [
    {
     "data": {
      "text/plain": [
       "8"
      ]
     },
     "execution_count": 58,
     "metadata": {},
     "output_type": "execute_result"
    }
   ],
   "source": [
    "y_train_predict[1]"
   ]
  },
  {
   "cell_type": "code",
   "execution_count": 59,
   "metadata": {},
   "outputs": [],
   "source": [
    "dec_tree_accuracy = accuracy_score(y_train, y_train_predict)\n",
    "dec_tree_precision = precision_score(y_train, y_train_predict, average='weighted')\n",
    "dec_tree_recall = recall_score(y_train, y_train_predict, average='weighted')\n",
    "dec_tree_f1_score = f1_score(y_train, y_train_predict, average='weighted')\n",
    "dec_tree_report = classification_report(y_train, y_train_predict)"
   ]
  },
  {
   "cell_type": "code",
   "execution_count": 60,
   "metadata": {},
   "outputs": [
    {
     "name": "stdout",
     "output_type": "stream",
     "text": [
      "------------Different score for DecisionTreeClassifier\n",
      "Accuracy is ::  1.0\n",
      "Precision is ::  1.0\n",
      "Recall is ::  1.0\n",
      "F1_score ::  1.0\n"
     ]
    }
   ],
   "source": [
    "print (\"------------Different score for DecisionTreeClassifier\")\n",
    "print (\"Accuracy is :: \" , dec_tree_accuracy)\n",
    "print (\"Precision is :: \" , dec_tree_precision)\n",
    "print (\"Recall is :: \" , dec_tree_recall)\n",
    "print (\"F1_score :: \" , dec_tree_f1_score)"
   ]
  },
  {
   "cell_type": "code",
   "execution_count": 61,
   "metadata": {},
   "outputs": [
    {
     "name": "stdout",
     "output_type": "stream",
     "text": [
      "DecisionTreeClassifier Classification Report ::                precision    recall  f1-score   support\n",
      "\n",
      "           0       1.00      1.00      1.00      6000\n",
      "           1       1.00      1.00      1.00      6000\n",
      "           2       1.00      1.00      1.00      6000\n",
      "           3       1.00      1.00      1.00      6000\n",
      "           4       1.00      1.00      1.00      6000\n",
      "           5       1.00      1.00      1.00      6000\n",
      "           6       1.00      1.00      1.00      6000\n",
      "           7       1.00      1.00      1.00      6000\n",
      "           8       1.00      1.00      1.00      6000\n",
      "           9       1.00      1.00      1.00      6000\n",
      "\n",
      "   micro avg       1.00      1.00      1.00     60000\n",
      "   macro avg       1.00      1.00      1.00     60000\n",
      "weighted avg       1.00      1.00      1.00     60000\n",
      "\n"
     ]
    }
   ],
   "source": [
    "print (\"DecisionTreeClassifier Classification Report :: \" , dec_tree_report)"
   ]
  },
  {
   "cell_type": "code",
   "execution_count": 62,
   "metadata": {},
   "outputs": [],
   "source": [
    "##Training the model using RandomForestClassifier"
   ]
  },
  {
   "cell_type": "code",
   "execution_count": 63,
   "metadata": {},
   "outputs": [],
   "source": [
    "from sklearn.ensemble import RandomForestClassifier"
   ]
  },
  {
   "cell_type": "code",
   "execution_count": 64,
   "metadata": {},
   "outputs": [],
   "source": [
    "rnd_clf = RandomForestClassifier(n_estimators=100, max_depth=50, random_state=42)\n",
    "# Scaling is not needed for Decision Tree based algorithms like Random Forest and XGBoost"
   ]
  },
  {
   "cell_type": "code",
   "execution_count": 65,
   "metadata": {},
   "outputs": [
    {
     "data": {
      "text/plain": [
       "RandomForestClassifier(bootstrap=True, class_weight=None, criterion='gini',\n",
       "            max_depth=50, max_features='auto', max_leaf_nodes=None,\n",
       "            min_impurity_decrease=0.0, min_impurity_split=None,\n",
       "            min_samples_leaf=1, min_samples_split=2,\n",
       "            min_weight_fraction_leaf=0.0, n_estimators=100, n_jobs=None,\n",
       "            oob_score=False, random_state=42, verbose=0, warm_start=False)"
      ]
     },
     "execution_count": 65,
     "metadata": {},
     "output_type": "execute_result"
    }
   ],
   "source": [
    "rnd_clf.fit(X_train, y_train)"
   ]
  },
  {
   "cell_type": "code",
   "execution_count": 66,
   "metadata": {},
   "outputs": [],
   "source": [
    "y_train_predict = rnd_clf.predict(X_train[0].reshape(1, -1))"
   ]
  },
  {
   "cell_type": "code",
   "execution_count": 67,
   "metadata": {},
   "outputs": [
    {
     "data": {
      "text/plain": [
       "8"
      ]
     },
     "execution_count": 67,
     "metadata": {},
     "output_type": "execute_result"
    }
   ],
   "source": [
    "y_train[0]"
   ]
  },
  {
   "cell_type": "code",
   "execution_count": 68,
   "metadata": {},
   "outputs": [
    {
     "data": {
      "text/plain": [
       "8"
      ]
     },
     "execution_count": 68,
     "metadata": {},
     "output_type": "execute_result"
    }
   ],
   "source": [
    "y_train_predict[0]"
   ]
  },
  {
   "cell_type": "code",
   "execution_count": 69,
   "metadata": {},
   "outputs": [
    {
     "data": {
      "image/png": "[encoded data removed]",
      "text/plain": [
       "<Figure size 432x288 with 1 Axes>"
      ]
     },
     "metadata": {
      "needs_background": "light"
     },
     "output_type": "display_data"
    }
   ],
   "source": [
    "showImage(X_train[0])"
   ]
  },
  {
   "cell_type": "code",
   "execution_count": 70,
   "metadata": {},
   "outputs": [],
   "source": [
    "y_train_predict = rnd_clf.predict(X_train)"
   ]
  },
  {
   "cell_type": "code",
   "execution_count": 73,
   "metadata": {},
   "outputs": [],
   "source": [
    "rnd_accuracy = accuracy_score(y_train, y_train_predict)\n",
    "rnd_precision = precision_score(y_train, y_train_predict, average='weighted')\n",
    "rnd_recall = recall_score(y_train, y_train_predict, average='weighted')\n",
    "rnd_f1_score = f1_score(y_train, y_train_predict, average='weighted')\n",
    "rnd_report = classification_report(y_train, y_train_predict)"
   ]
  },
  {
   "cell_type": "code",
   "execution_count": 74,
   "metadata": {},
   "outputs": [
    {
     "name": "stdout",
     "output_type": "stream",
     "text": [
      "------------Different score for RandomForestClassifier\n",
      "Accuracy is ::  1.0\n",
      "Precision is ::  1.0\n",
      "Recall is ::  1.0\n",
      "F1_score ::  1.0\n"
     ]
    }
   ],
   "source": [
    "print (\"------------Different score for RandomForestClassifier\")\n",
    "print (\"Accuracy is :: \" , rnd_accuracy)\n",
    "print (\"Precision is :: \" , rnd_precision)\n",
    "print (\"Recall is :: \" , rnd_recall)\n",
    "print (\"F1_score :: \" , rnd_f1_score)\n",
    "\n"
   ]
  },
  {
   "cell_type": "code",
   "execution_count": 75,
   "metadata": {},
   "outputs": [
    {
     "name": "stdout",
     "output_type": "stream",
     "text": [
      "RandomForestClassifier Classification Report ::                precision    recall  f1-score   support\n",
      "\n",
      "           0       1.00      1.00      1.00      6000\n",
      "           1       1.00      1.00      1.00      6000\n",
      "           2       1.00      1.00      1.00      6000\n",
      "           3       1.00      1.00      1.00      6000\n",
      "           4       1.00      1.00      1.00      6000\n",
      "           5       1.00      1.00      1.00      6000\n",
      "           6       1.00      1.00      1.00      6000\n",
      "           7       1.00      1.00      1.00      6000\n",
      "           8       1.00      1.00      1.00      6000\n",
      "           9       1.00      1.00      1.00      6000\n",
      "\n",
      "   micro avg       1.00      1.00      1.00     60000\n",
      "   macro avg       1.00      1.00      1.00     60000\n",
      "weighted avg       1.00      1.00      1.00     60000\n",
      "\n"
     ]
    }
   ],
   "source": [
    "print (\"RandomForestClassifier Classification Report :: \" , rnd_report)"
   ]
  },
  {
   "cell_type": "code",
   "execution_count": 76,
   "metadata": {},
   "outputs": [],
   "source": [
    "#Training the Model using VotingClassifier"
   ]
  },
  {
   "cell_type": "code",
   "execution_count": 77,
   "metadata": {},
   "outputs": [],
   "source": [
    "from sklearn.ensemble import VotingClassifier\n"
   ]
  },
  {
   "cell_type": "code",
   "execution_count": 78,
   "metadata": {},
   "outputs": [],
   "source": [
    "log_clf_ens = LogisticRegression(multi_class=\"multinomial\", solver=\"lbfgs\", C=10,random_state=42)\n"
   ]
  },
  {
   "cell_type": "code",
   "execution_count": 79,
   "metadata": {},
   "outputs": [],
   "source": [
    "rnd_clf_ens = RandomForestClassifier(n_estimators=100, max_depth=50, random_state=42)\n"
   ]
  },
  {
   "cell_type": "code",
   "execution_count": 80,
   "metadata": {},
   "outputs": [],
   "source": [
    "#Create an instance of VotingClassifier by passing following parameters - estimators\n",
    "voting_clf = VotingClassifier(\n",
    "    estimators=[('lr', log_clf_ens), ('rf', rnd_clf_ens)], voting='soft')"
   ]
  },
  {
   "cell_type": "code",
   "execution_count": 81,
   "metadata": {},
   "outputs": [
    {
     "name": "stderr",
     "output_type": "stream",
     "text": [
      "/anaconda3/lib/python3.7/site-packages/sklearn/linear_model/logistic.py:758: ConvergenceWarning: lbfgs failed to converge. Increase the number of iterations.\n",
      "  \"of iterations.\", ConvergenceWarning)\n"
     ]
    },
    {
     "data": {
      "text/plain": [
       "VotingClassifier(estimators=[('lr', LogisticRegression(C=10, class_weight=None, dual=False, fit_intercept=True,\n",
       "          intercept_scaling=1, max_iter=100, multi_class='multinomial',\n",
       "          n_jobs=None, penalty='l2', random_state=42, solver='lbfgs',\n",
       "          tol=0.0001, verbose=0, warm_start=False)), ('rf', Ran...ators=100, n_jobs=None,\n",
       "            oob_score=False, random_state=42, verbose=0, warm_start=False))],\n",
       "         flatten_transform=None, n_jobs=None, voting='soft', weights=None)"
      ]
     },
     "execution_count": 81,
     "metadata": {},
     "output_type": "execute_result"
    }
   ],
   "source": [
    "#Train the model using Scaled training dataset \n",
    "voting_clf.fit(X_train_scaled, y_train)"
   ]
  },
  {
   "cell_type": "code",
   "execution_count": 82,
   "metadata": {},
   "outputs": [],
   "source": [
    "y_train_predict = voting_clf.predict(X_train[0].reshape(1, -1))"
   ]
  },
  {
   "cell_type": "code",
   "execution_count": 83,
   "metadata": {},
   "outputs": [
    {
     "data": {
      "text/plain": [
       "8"
      ]
     },
     "execution_count": 83,
     "metadata": {},
     "output_type": "execute_result"
    }
   ],
   "source": [
    "y_train[0]"
   ]
  },
  {
   "cell_type": "code",
   "execution_count": 84,
   "metadata": {},
   "outputs": [
    {
     "data": {
      "text/plain": [
       "8"
      ]
     },
     "execution_count": 84,
     "metadata": {},
     "output_type": "execute_result"
    }
   ],
   "source": [
    "y_train_predict[0]"
   ]
  },
  {
   "cell_type": "code",
   "execution_count": 85,
   "metadata": {},
   "outputs": [
    {
     "data": {
      "image/png": "[encoded data removed]",
      "text/plain": [
       "<Figure size 432x288 with 1 Axes>"
      ]
     },
     "metadata": {
      "needs_background": "light"
     },
     "output_type": "display_data"
    }
   ],
   "source": [
    "showImage(X_train[0])"
   ]
  },
  {
   "cell_type": "code",
   "execution_count": 86,
   "metadata": {},
   "outputs": [],
   "source": [
    "y_train_predict = voting_clf.predict(X_train_scaled)"
   ]
  },
  {
   "cell_type": "code",
   "execution_count": 87,
   "metadata": {},
   "outputs": [],
   "source": [
    "voting_accuracy = accuracy_score(y_train, y_train_predict)\n",
    "voting_precision = precision_score(y_train, y_train_predict, average='weighted')\n",
    "voting_recall = recall_score(y_train, y_train_predict, average='weighted')\n",
    "voting_f1_score = f1_score(y_train, y_train_predict, average='weighted')\n",
    "voting_report = classification_report(y_train, y_train_predict)\n"
   ]
  },
  {
   "cell_type": "code",
   "execution_count": 88,
   "metadata": {},
   "outputs": [
    {
     "name": "stdout",
     "output_type": "stream",
     "text": [
      "------------Different score for VotingClassifier\n",
      "Accuracy is ::  0.9653\n",
      "Precision is ::  0.9653631441482463\n",
      "Recall is ::  0.9653\n",
      "F1_score ::  0.9651755214917088\n"
     ]
    }
   ],
   "source": [
    "print (\"------------Different score for VotingClassifier\")\n",
    "print (\"Accuracy is :: \" , voting_accuracy)\n",
    "print (\"Precision is :: \" , voting_precision)\n",
    "print (\"Recall is :: \" , voting_recall)\n",
    "print (\"F1_score :: \" , voting_f1_score)"
   ]
  },
  {
   "cell_type": "code",
   "execution_count": 89,
   "metadata": {},
   "outputs": [
    {
     "name": "stdout",
     "output_type": "stream",
     "text": [
      "VotingClassifier Classification Report ::                precision    recall  f1-score   support\n",
      "\n",
      "           0       0.94      0.96      0.95      6000\n",
      "           1       1.00      0.99      0.99      6000\n",
      "           2       0.94      0.94      0.94      6000\n",
      "           3       0.96      0.98      0.97      6000\n",
      "           4       0.93      0.96      0.94      6000\n",
      "           5       0.99      0.98      0.99      6000\n",
      "           6       0.95      0.88      0.91      6000\n",
      "           7       0.97      0.98      0.98      6000\n",
      "           8       0.99      0.99      0.99      6000\n",
      "           9       0.99      0.98      0.99      6000\n",
      "\n",
      "   micro avg       0.97      0.97      0.97     60000\n",
      "   macro avg       0.97      0.97      0.97     60000\n",
      "weighted avg       0.97      0.97      0.97     60000\n",
      "\n"
     ]
    }
   ],
   "source": [
    "print (\"VotingClassifier Classification Report :: \" , voting_report)"
   ]
  },
  {
   "cell_type": "code",
   "execution_count": 90,
   "metadata": {},
   "outputs": [],
   "source": [
    "#Cross-Validation - SGDClassifier"
   ]
  },
  {
   "cell_type": "code",
   "execution_count": 91,
   "metadata": {},
   "outputs": [],
   "source": [
    "def display_scores(scores):\n",
    "    print (\"The accuracy score\", scores)\n",
    "    print(\"The mean of scores = \" , scores.mean())\n",
    "    print(\"The Standard Daviation of scores = \" , scores.std())"
   ]
  },
  {
   "cell_type": "code",
   "execution_count": 92,
   "metadata": {},
   "outputs": [],
   "source": [
    "from sklearn.model_selection import cross_val_score\n",
    "from sklearn.model_selection import cross_val_predict"
   ]
  },
  {
   "cell_type": "code",
   "execution_count": 93,
   "metadata": {},
   "outputs": [
    {
     "name": "stderr",
     "output_type": "stream",
     "text": [
      "/anaconda3/lib/python3.7/site-packages/sklearn/linear_model/stochastic_gradient.py:166: FutureWarning: max_iter and tol parameters have been added in SGDClassifier in 0.19. If both are left unset, they default to max_iter=5 and tol=None. If tol is not None, max_iter defaults to max_iter=1000. From 0.21, default max_iter will be 1000, and default tol will be 1e-3.\n",
      "  FutureWarning)\n",
      "/anaconda3/lib/python3.7/site-packages/sklearn/linear_model/stochastic_gradient.py:166: FutureWarning: max_iter and tol parameters have been added in SGDClassifier in 0.19. If both are left unset, they default to max_iter=5 and tol=None. If tol is not None, max_iter defaults to max_iter=1000. From 0.21, default max_iter will be 1000, and default tol will be 1e-3.\n",
      "  FutureWarning)\n",
      "/anaconda3/lib/python3.7/site-packages/sklearn/linear_model/stochastic_gradient.py:166: FutureWarning: max_iter and tol parameters have been added in SGDClassifier in 0.19. If both are left unset, they default to max_iter=5 and tol=None. If tol is not None, max_iter defaults to max_iter=1000. From 0.21, default max_iter will be 1000, and default tol will be 1e-3.\n",
      "  FutureWarning)\n"
     ]
    },
    {
     "name": "stdout",
     "output_type": "stream",
     "text": [
      "The accuracy score [0.8352 0.8347 0.8307]\n",
      "The mean of scores =  0.8335333333333335\n",
      "The Standard Daviation of scores =  0.0020138409955991125\n"
     ]
    }
   ],
   "source": [
    "sgd_cv_scores = cross_val_score(sgd_clf, X_train_scaled, y_train, cv=3, scoring=\"accuracy\") \n",
    "display_scores(sgd_cv_scores)"
   ]
  },
  {
   "cell_type": "code",
   "execution_count": 94,
   "metadata": {},
   "outputs": [],
   "source": [
    "sgd_cv_accuracy = sgd_cv_scores.mean()"
   ]
  },
  {
   "cell_type": "code",
   "execution_count": 95,
   "metadata": {},
   "outputs": [
    {
     "name": "stderr",
     "output_type": "stream",
     "text": [
      "/anaconda3/lib/python3.7/site-packages/sklearn/linear_model/stochastic_gradient.py:166: FutureWarning: max_iter and tol parameters have been added in SGDClassifier in 0.19. If both are left unset, they default to max_iter=5 and tol=None. If tol is not None, max_iter defaults to max_iter=1000. From 0.21, default max_iter will be 1000, and default tol will be 1e-3.\n",
      "  FutureWarning)\n",
      "/anaconda3/lib/python3.7/site-packages/sklearn/linear_model/stochastic_gradient.py:166: FutureWarning: max_iter and tol parameters have been added in SGDClassifier in 0.19. If both are left unset, they default to max_iter=5 and tol=None. If tol is not None, max_iter defaults to max_iter=1000. From 0.21, default max_iter will be 1000, and default tol will be 1e-3.\n",
      "  FutureWarning)\n",
      "/anaconda3/lib/python3.7/site-packages/sklearn/linear_model/stochastic_gradient.py:166: FutureWarning: max_iter and tol parameters have been added in SGDClassifier in 0.19. If both are left unset, they default to max_iter=5 and tol=None. If tol is not None, max_iter defaults to max_iter=1000. From 0.21, default max_iter will be 1000, and default tol will be 1e-3.\n",
      "  FutureWarning)\n"
     ]
    }
   ],
   "source": [
    "y_train_pred = cross_val_predict(sgd_clf, X_train_scaled, y_train, cv=3)"
   ]
  },
  {
   "cell_type": "code",
   "execution_count": 96,
   "metadata": {
    "scrolled": true
   },
   "outputs": [
    {
     "data": {
      "text/plain": [
       "array([[4901,   23,  102,  437,   20,    3,  418,    0,   96,    0],\n",
       "       [  13, 5720,   69,  159,   17,    1,   18,    0,    3,    0],\n",
       "       [  49,    7, 4483,  103,  781,    1,  491,    1,   83,    1],\n",
       "       [ 258,  103,   74, 5168,  234,    0,  148,    0,   14,    1],\n",
       "       [   9,    6,  683,  299, 4422,    1,  546,    1,   32,    1],\n",
       "       [   6,    3,    2,    8,    0, 5456,    6,  339,   70,  110],\n",
       "       [ 927,   19,  718,  346,  599,    0, 3185,    3,  202,    1],\n",
       "       [   0,    0,    0,    0,    0,  259,    0, 5580,   13,  148],\n",
       "       [  35,    3,   33,  134,   28,   13,   78,   45, 5625,    6],\n",
       "       [   0,    3,    0,    4,    0,  118,    1,  397,    5, 5472]])"
      ]
     },
     "execution_count": 96,
     "metadata": {},
     "output_type": "execute_result"
    }
   ],
   "source": [
    "confusion_matrix(y_train,y_train_pred)"
   ]
  },
  {
   "cell_type": "code",
   "execution_count": 97,
   "metadata": {},
   "outputs": [],
   "source": [
    "sgd_cv_precision = precision_score(y_train,y_train_pred, average='weighted')\n",
    "sgd_cv_recall = recall_score(y_train, y_train_pred, average='weighted')\n",
    "sgd_cv_f1_score = f1_score(y_train, y_train_pred, average='weighted')"
   ]
  },
  {
   "cell_type": "code",
   "execution_count": 98,
   "metadata": {},
   "outputs": [
    {
     "name": "stdout",
     "output_type": "stream",
     "text": [
      "------------Different score for Cross Validation of SGDClassifier\n",
      "The accuracy score [0.8352 0.8347 0.8307]\n",
      "The mean of scores =  0.8335333333333335\n",
      "The Standard Daviation of scores =  0.0020138409955991125\n",
      "Score None\n",
      "Accuracy 0.8335333333333335\n",
      "Precision is ::  0.8319712078771339\n",
      "Recall is ::  0.8335333333333333\n",
      "F1_score ::  0.8317177626508346\n"
     ]
    }
   ],
   "source": [
    "print (\"------------Different score for Cross Validation of SGDClassifier\")\n",
    "print (\"Score\", display_scores(sgd_cv_scores))\n",
    "print (\"Accuracy\", sgd_cv_accuracy)\n",
    "print (\"Precision is :: \" , sgd_cv_precision)\n",
    "print (\"Recall is :: \" , sgd_cv_recall)\n",
    "print (\"F1_score :: \" , sgd_cv_f1_score)"
   ]
  },
  {
   "cell_type": "code",
   "execution_count": 99,
   "metadata": {},
   "outputs": [],
   "source": [
    "#Cross-Validation - Softmax Regression"
   ]
  },
  {
   "cell_type": "code",
   "execution_count": 100,
   "metadata": {},
   "outputs": [
    {
     "name": "stderr",
     "output_type": "stream",
     "text": [
      "/anaconda3/lib/python3.7/site-packages/sklearn/linear_model/logistic.py:758: ConvergenceWarning: lbfgs failed to converge. Increase the number of iterations.\n",
      "  \"of iterations.\", ConvergenceWarning)\n",
      "/anaconda3/lib/python3.7/site-packages/sklearn/linear_model/logistic.py:758: ConvergenceWarning: lbfgs failed to converge. Increase the number of iterations.\n",
      "  \"of iterations.\", ConvergenceWarning)\n"
     ]
    },
    {
     "name": "stdout",
     "output_type": "stream",
     "text": [
      "The accuracy score [0.84905 0.84825 0.84395]\n",
      "The mean of scores =  0.8470833333333333\n",
      "The Standard Daviation of scores =  0.0022395436042987695\n"
     ]
    },
    {
     "name": "stderr",
     "output_type": "stream",
     "text": [
      "/anaconda3/lib/python3.7/site-packages/sklearn/linear_model/logistic.py:758: ConvergenceWarning: lbfgs failed to converge. Increase the number of iterations.\n",
      "  \"of iterations.\", ConvergenceWarning)\n"
     ]
    }
   ],
   "source": [
    "log_cv_scores = cross_val_score(log_clf, X_train_scaled, y_train, cv=3, scoring=\"accuracy\") \n",
    "display_scores(log_cv_scores)"
   ]
  },
  {
   "cell_type": "code",
   "execution_count": 101,
   "metadata": {},
   "outputs": [],
   "source": [
    "log_cv_accuracy = log_cv_scores.mean()"
   ]
  },
  {
   "cell_type": "code",
   "execution_count": 102,
   "metadata": {},
   "outputs": [
    {
     "name": "stderr",
     "output_type": "stream",
     "text": [
      "/anaconda3/lib/python3.7/site-packages/sklearn/linear_model/logistic.py:758: ConvergenceWarning: lbfgs failed to converge. Increase the number of iterations.\n",
      "  \"of iterations.\", ConvergenceWarning)\n",
      "/anaconda3/lib/python3.7/site-packages/sklearn/linear_model/logistic.py:758: ConvergenceWarning: lbfgs failed to converge. Increase the number of iterations.\n",
      "  \"of iterations.\", ConvergenceWarning)\n",
      "/anaconda3/lib/python3.7/site-packages/sklearn/linear_model/logistic.py:758: ConvergenceWarning: lbfgs failed to converge. Increase the number of iterations.\n",
      "  \"of iterations.\", ConvergenceWarning)\n"
     ]
    }
   ],
   "source": [
    "y_train_pred = cross_val_predict(log_clf, X_train_scaled, y_train, cv=3)"
   ]
  },
  {
   "cell_type": "code",
   "execution_count": 103,
   "metadata": {},
   "outputs": [
    {
     "data": {
      "text/plain": [
       "array([[4872,   27,  119,  275,   31,    8,  587,    3,   71,    7],\n",
       "       [  22, 5802,   21,  114,   14,    1,   21,    3,    1,    1],\n",
       "       [ 100,   16, 4477,   65,  722,    8,  564,    4,   43,    1],\n",
       "       [ 227,   83,   71, 5209,  193,    3,  180,    4,   26,    4],\n",
       "       [  22,   13,  549,  190, 4669,    3,  521,    1,   32,    0],\n",
       "       [   5,    4,    4,    2,    0, 5521,    3,  280,   54,  127],\n",
       "       [ 886,   19,  704,  218,  592,    3, 3470,    3,  100,    5],\n",
       "       [   0,    0,    1,    0,    0,  220,    0, 5555,   15,  209],\n",
       "       [  58,    6,   40,   45,   28,   52,  123,   30, 5599,   19],\n",
       "       [   0,    1,    0,    2,    0,  108,    0,  231,    7, 5651]])"
      ]
     },
     "execution_count": 103,
     "metadata": {},
     "output_type": "execute_result"
    }
   ],
   "source": [
    "confusion_matrix(y_train,y_train_pred)"
   ]
  },
  {
   "cell_type": "code",
   "execution_count": 104,
   "metadata": {},
   "outputs": [],
   "source": [
    "log_cv_precision = precision_score(y_train, y_train_pred, average='weighted')\n",
    "log_cv_recall = recall_score(y_train, y_train_pred, average='weighted')\n",
    "log_cv_f1_score = f1_score(y_train, y_train_pred, average='weighted')\n"
   ]
  },
  {
   "cell_type": "code",
   "execution_count": 105,
   "metadata": {},
   "outputs": [
    {
     "name": "stdout",
     "output_type": "stream",
     "text": [
      "------------Different score for Cross Validation of the Softmax Logistis Regression\n",
      "The accuracy score [0.84905 0.84825 0.84395]\n",
      "The mean of scores =  0.8470833333333333\n",
      "The Standard Daviation of scores =  0.0022395436042987695\n",
      "Score is ::  None\n",
      "Accuracy is ::  0.8470833333333333\n",
      "Precision is ::  0.8458694883855286\n",
      "Recall is ::  0.8470833333333333\n",
      "F1_score ::  0.846272242627941\n"
     ]
    }
   ],
   "source": [
    "print (\"------------Different score for Cross Validation of the Softmax Logistis Regression\")\n",
    "print (\"Score is :: \" , display_scores(log_cv_scores))\n",
    "print (\"Accuracy is :: \" , log_cv_accuracy)\n",
    "print (\"Precision is :: \" , log_cv_precision)\n",
    "print (\"Recall is :: \" , log_cv_recall)\n",
    "print (\"F1_score :: \" , log_cv_f1_score)"
   ]
  },
  {
   "cell_type": "code",
   "execution_count": 106,
   "metadata": {},
   "outputs": [],
   "source": [
    "#Cross-Validation - DecisionTreeClassifier"
   ]
  },
  {
   "cell_type": "code",
   "execution_count": 107,
   "metadata": {},
   "outputs": [
    {
     "name": "stdout",
     "output_type": "stream",
     "text": [
      "The accuracy score [0.78925 0.78965 0.7894 ]\n",
      "The mean of scores =  0.7894333333333333\n",
      "The Standard Daviation of scores =  0.00016499158227684292\n"
     ]
    }
   ],
   "source": [
    "dec_tree_cv_scores = cross_val_score(dec_tree_clf, X_train, y_train, cv=3 , scoring=\"accuracy\") \n",
    "display_scores(dec_tree_cv_scores)"
   ]
  },
  {
   "cell_type": "code",
   "execution_count": 108,
   "metadata": {},
   "outputs": [],
   "source": [
    "dec_tree_cv_accuracy = dec_tree_cv_scores.mean()"
   ]
  },
  {
   "cell_type": "code",
   "execution_count": 111,
   "metadata": {},
   "outputs": [],
   "source": [
    "y_train_pred = cross_val_predict(dec_tree_clf, X_train, y_train, cv=3)"
   ]
  },
  {
   "cell_type": "code",
   "execution_count": 112,
   "metadata": {},
   "outputs": [
    {
     "data": {
      "text/plain": [
       "array([[4398,   39,  147,  299,   74,   24,  938,    2,   70,    9],\n",
       "       [  43, 5692,   24,  166,   27,    3,   34,    0,   11,    0],\n",
       "       [ 141,   19, 4086,   96,  875,    6,  696,    3,   72,    6],\n",
       "       [ 269,  217,  108, 4725,  306,   17,  285,    2,   63,    8],\n",
       "       [  70,   25,  890,  338, 3879,    6,  729,    2,   57,    4],\n",
       "       [  15,   14,   10,   20,    4, 5316,   21,  327,   88,  185],\n",
       "       [ 943,   43,  720,  238,  676,   13, 3232,    2,  129,    4],\n",
       "       [   2,    0,    2,    1,    0,  356,    1, 5175,   45,  418],\n",
       "       [  53,   12,   54,   56,   80,   96,  129,   47, 5441,   32],\n",
       "       [   4,    3,    8,    6,    2,  144,   11,  370,   30, 5422]])"
      ]
     },
     "execution_count": 112,
     "metadata": {},
     "output_type": "execute_result"
    }
   ],
   "source": [
    "confusion_matrix(y_train, y_train_pred)"
   ]
  },
  {
   "cell_type": "code",
   "execution_count": 113,
   "metadata": {},
   "outputs": [],
   "source": [
    "dec_tree_cv_precision = precision_score(y_train,y_train_pred, average='weighted')\n",
    "dec_tree_cv_recall = recall_score(y_train, y_train_pred , average='weighted')\n",
    "dec_tree_cv_f1_score = f1_score(y_train, y_train_pred, average='weighted')"
   ]
  },
  {
   "cell_type": "code",
   "execution_count": 114,
   "metadata": {},
   "outputs": [
    {
     "name": "stdout",
     "output_type": "stream",
     "text": [
      "------------Different score for Cross Validation of the DecisionTreeClassifier\n",
      "The accuracy score [0.78925 0.78965 0.7894 ]\n",
      "The mean of scores =  0.7894333333333333\n",
      "The Standard Daviation of scores =  0.00016499158227684292\n",
      "Score ::  None\n",
      "Accuracy ::  0.7894333333333333\n",
      "Precision is ::  0.7894438101880717\n",
      "Recall is ::  0.7894333333333333\n",
      "F1_score ::  0.7894183081171982\n"
     ]
    }
   ],
   "source": [
    "print (\"------------Different score for Cross Validation of the DecisionTreeClassifier\")\n",
    "print (\"Score :: \" , display_scores(dec_tree_cv_scores))\n",
    "print (\"Accuracy :: \" , dec_tree_cv_accuracy)\n",
    "print (\"Precision is :: \" , dec_tree_cv_precision)\n",
    "print (\"Recall is :: \" , dec_tree_cv_recall)\n",
    "print (\"F1_score :: \" , dec_tree_cv_f1_score)"
   ]
  },
  {
   "cell_type": "code",
   "execution_count": 115,
   "metadata": {},
   "outputs": [],
   "source": [
    "#Cross-Validation - RandomForestClassifier"
   ]
  },
  {
   "cell_type": "code",
   "execution_count": 116,
   "metadata": {},
   "outputs": [
    {
     "name": "stdout",
     "output_type": "stream",
     "text": [
      "The accuracy score [0.85155 0.84745 0.84585]\n",
      "The mean of scores =  0.8482833333333334\n",
      "The Standard Daviation of scores =  0.002400462918318523\n"
     ]
    }
   ],
   "source": [
    "rnd_clf = RandomForestClassifier(n_estimators=20, max_depth=10, random_state=42)\n",
    "\n",
    "rnd_cv_scores = cross_val_score(rnd_clf,X_train,y_train, cv=3, scoring=\"accuracy\") \n",
    "display_scores(rnd_cv_scores)"
   ]
  },
  {
   "cell_type": "code",
   "execution_count": 117,
   "metadata": {},
   "outputs": [
    {
     "name": "stdout",
     "output_type": "stream",
     "text": [
      "0.8482833333333334\n"
     ]
    }
   ],
   "source": [
    "rnd_cv_accuracy = rnd_cv_scores.mean()\n",
    "print (rnd_cv_accuracy)"
   ]
  },
  {
   "cell_type": "code",
   "execution_count": 118,
   "metadata": {},
   "outputs": [],
   "source": [
    "y_train_pred = cross_val_predict(rnd_clf,X_train,y_train, cv=3)"
   ]
  },
  {
   "cell_type": "code",
   "execution_count": 119,
   "metadata": {},
   "outputs": [
    {
     "data": {
      "text/plain": [
       "array([[5081,    2,  108,  334,   45,    5,  358,    0,   67,    0],\n",
       "       [  18, 5691,   57,  199,    8,    1,   21,    0,    5,    0],\n",
       "       [  39,    2, 4439,   59, 1098,    0,  325,    0,   38,    0],\n",
       "       [ 147,   18,   65, 5444,  195,    0,  117,    0,   14,    0],\n",
       "       [   9,    7,  493,  339, 4842,    1,  283,    0,   25,    1],\n",
       "       [   1,    0,    2,    2,    0, 5502,    0,  351,   32,  110],\n",
       "       [1195,    8,  831,  198,  709,    2, 2947,    0,  110,    0],\n",
       "       [   0,    0,    0,    0,    0,   88,    0, 5538,   12,  362],\n",
       "       [  12,    5,   48,   31,   35,   16,   50,   20, 5777,    6],\n",
       "       [   1,    0,    2,    4,    2,   52,    1,  290,   12, 5636]])"
      ]
     },
     "execution_count": 119,
     "metadata": {},
     "output_type": "execute_result"
    }
   ],
   "source": [
    "confusion_matrix(y_train, y_train_pred)"
   ]
  },
  {
   "cell_type": "code",
   "execution_count": 120,
   "metadata": {},
   "outputs": [],
   "source": [
    "rnd_cv_precision = precision_score(y_train, y_train_pred, average='weighted')\n",
    "rnd_cv_recall = recall_score(y_train, y_train_pred, average='weighted')\n",
    "rnd_cv_f1_score = f1_score(y_train, y_train_pred, average='weighted')\n"
   ]
  },
  {
   "cell_type": "code",
   "execution_count": 121,
   "metadata": {},
   "outputs": [
    {
     "name": "stdout",
     "output_type": "stream",
     "text": [
      "------------Different score for Cross Validation of the RandomForestClassifier\n",
      "The accuracy score [0.85155 0.84745 0.84585]\n",
      "The mean of scores =  0.8482833333333334\n",
      "The Standard Daviation of scores =  0.002400462918318523\n",
      "Score is ::  None\n",
      "Accuracy is ::  0.8482833333333334\n",
      "Precision is ::  0.8482875291253137\n",
      "Recall is ::  0.8482833333333333\n",
      "F1_score ::  0.8452574403288833\n"
     ]
    }
   ],
   "source": [
    "print (\"------------Different score for Cross Validation of the RandomForestClassifier\")\n",
    "print (\"Score is :: \" , display_scores(rnd_cv_scores))\n",
    "print (\"Accuracy is :: \" , rnd_cv_accuracy)\n",
    "print (\"Precision is :: \" , rnd_cv_precision)\n",
    "print (\"Recall is :: \" , rnd_cv_recall)\n",
    "print (\"F1_score :: \" , rnd_cv_f1_score)\n"
   ]
  },
  {
   "cell_type": "code",
   "execution_count": 122,
   "metadata": {},
   "outputs": [],
   "source": [
    "#Cross-Validation - Ensemble (Voting Classifier)\n",
    "rnd_clf_ens = RandomForestClassifier(n_estimators=20, max_depth=10, random_state=42 )"
   ]
  },
  {
   "cell_type": "code",
   "execution_count": 123,
   "metadata": {},
   "outputs": [],
   "source": [
    "voting_clf = VotingClassifier(\n",
    "    estimators=[('lr', log_clf_ens), ('rf', rnd_clf_ens)],\n",
    "    voting='soft')"
   ]
  },
  {
   "cell_type": "code",
   "execution_count": 124,
   "metadata": {},
   "outputs": [
    {
     "name": "stderr",
     "output_type": "stream",
     "text": [
      "/anaconda3/lib/python3.7/site-packages/sklearn/linear_model/logistic.py:758: ConvergenceWarning: lbfgs failed to converge. Increase the number of iterations.\n",
      "  \"of iterations.\", ConvergenceWarning)\n",
      "/anaconda3/lib/python3.7/site-packages/sklearn/linear_model/logistic.py:758: ConvergenceWarning: lbfgs failed to converge. Increase the number of iterations.\n",
      "  \"of iterations.\", ConvergenceWarning)\n",
      "/anaconda3/lib/python3.7/site-packages/sklearn/linear_model/logistic.py:758: ConvergenceWarning: lbfgs failed to converge. Increase the number of iterations.\n",
      "  \"of iterations.\", ConvergenceWarning)\n"
     ]
    },
    {
     "name": "stdout",
     "output_type": "stream",
     "text": [
      "The accuracy score [0.86535 0.8652  0.8603 ]\n",
      "The mean of scores =  0.8636166666666667\n",
      "The Standard Daviation of scores =  0.002346036847299911\n"
     ]
    }
   ],
   "source": [
    "voting_cv_scores = cross_val_score(voting_clf, X_train_scaled,  y_train, cv=3, scoring=\"accuracy\" ) \n",
    "display_scores(voting_cv_scores)"
   ]
  },
  {
   "cell_type": "code",
   "execution_count": 125,
   "metadata": {},
   "outputs": [],
   "source": [
    "voting_cv_accuracy = voting_cv_scores.mean()"
   ]
  },
  {
   "cell_type": "code",
   "execution_count": 126,
   "metadata": {},
   "outputs": [
    {
     "name": "stderr",
     "output_type": "stream",
     "text": [
      "/anaconda3/lib/python3.7/site-packages/sklearn/linear_model/logistic.py:758: ConvergenceWarning: lbfgs failed to converge. Increase the number of iterations.\n",
      "  \"of iterations.\", ConvergenceWarning)\n",
      "/anaconda3/lib/python3.7/site-packages/sklearn/linear_model/logistic.py:758: ConvergenceWarning: lbfgs failed to converge. Increase the number of iterations.\n",
      "  \"of iterations.\", ConvergenceWarning)\n",
      "/anaconda3/lib/python3.7/site-packages/sklearn/linear_model/logistic.py:758: ConvergenceWarning: lbfgs failed to converge. Increase the number of iterations.\n",
      "  \"of iterations.\", ConvergenceWarning)\n"
     ]
    }
   ],
   "source": [
    "y_train_pred = cross_val_predict(voting_clf, X_train_scaled,  y_train, cv=3)"
   ]
  },
  {
   "cell_type": "code",
   "execution_count": 128,
   "metadata": {
    "scrolled": true
   },
   "outputs": [
    {
     "data": {
      "text/plain": [
       "array([[5047,   17,   94,  266,   23,    7,  474,    3,   66,    3],\n",
       "       [  14, 5804,   30,  119,   12,    1,   17,    2,    1,    0],\n",
       "       [  78,   11, 4590,   58,  786,    4,  428,    3,   41,    1],\n",
       "       [ 159,   39,   57, 5391,  188,    1,  138,    3,   21,    3],\n",
       "       [  14,    9,  456,  209, 4906,    1,  380,    0,   25,    0],\n",
       "       [   3,    2,    2,    0,    0, 5624,    2,  239,   35,   93],\n",
       "       [ 975,   15,  742,  199,  584,    1, 3383,    0,   96,    5],\n",
       "       [   0,    0,    1,    0,    0,  128,    0, 5644,   11,  216],\n",
       "       [  39,    2,   25,   30,   22,   27,   89,   25, 5727,   14],\n",
       "       [   0,    1,    0,    2,    0,   73,    0,  217,    6, 5701]])"
      ]
     },
     "execution_count": 128,
     "metadata": {},
     "output_type": "execute_result"
    }
   ],
   "source": [
    "confusion_matrix(y_train, y_train_pred)"
   ]
  },
  {
   "cell_type": "code",
   "execution_count": 129,
   "metadata": {},
   "outputs": [],
   "source": [
    "voting_cv_precision = precision_score(y_train, y_train_pred, average='weighted')\n",
    "voting_cv_recall = recall_score(y_train, y_train_pred, average='weighted')\n",
    "voting_cv_f1_score = f1_score(y_train, y_train_pred, average='weighted')"
   ]
  },
  {
   "cell_type": "code",
   "execution_count": 130,
   "metadata": {},
   "outputs": [
    {
     "name": "stdout",
     "output_type": "stream",
     "text": [
      "------------Different score for Cross Validation of the Ensemble (Voting Classifier)\n",
      "The accuracy score [0.86535 0.8652  0.8603 ]\n",
      "The mean of scores =  0.8636166666666667\n",
      "The Standard Daviation of scores =  0.002346036847299911\n",
      "Score is ::  None\n",
      "Accuracy is ::  0.8636166666666667\n",
      "Precision is ::  0.8619820448403134\n",
      "Recall is ::  0.8636166666666667\n",
      "F1_score ::  0.8619054772278224\n"
     ]
    }
   ],
   "source": [
    "print (\"------------Different score for Cross Validation of the Ensemble (Voting Classifier)\")\n",
    "print (\"Score is :: \" , display_scores(voting_cv_scores))\n",
    "print (\"Accuracy is :: \" , voting_cv_accuracy)\n",
    "print (\"Precision is :: \" , voting_cv_precision)\n",
    "print (\"Recall is :: \" , voting_cv_recall)\n",
    "print (\"F1_score :: \" , voting_cv_f1_score)"
   ]
  },
  {
   "cell_type": "code",
   "execution_count": 131,
   "metadata": {},
   "outputs": [
    {
     "name": "stdout",
     "output_type": "stream",
     "text": [
      "------------Different score for Cross Validation of SGDClassifier\n",
      "The accuracy score [0.8352 0.8347 0.8307]\n",
      "The mean of scores =  0.8335333333333335\n",
      "The Standard Daviation of scores =  0.0020138409955991125\n",
      "Accuracy ::  0.8335333333333335\n",
      "Precision is ::  0.8319712078771339\n",
      "Recall is ::  0.8335333333333333\n",
      "F1_score ::  0.8317177626508346\n",
      "------------Different score for Cross Validation of the Softmax Logistis Regression\n",
      "The accuracy score [0.84905 0.84825 0.84395]\n",
      "The mean of scores =  0.8470833333333333\n",
      "The Standard Daviation of scores =  0.0022395436042987695\n",
      "Accuracy is ::  0.8470833333333333\n",
      "Precision is ::  0.8458694883855286\n",
      "Recall is ::  0.8470833333333333\n",
      "F1_score ::  0.846272242627941\n",
      "------------Different score for Cross Validation of the DecisionTreeClassifier\n",
      "The accuracy score [0.78925 0.78965 0.7894 ]\n",
      "The mean of scores =  0.7894333333333333\n",
      "The Standard Daviation of scores =  0.00016499158227684292\n",
      "Accuracy ::  0.7894333333333333\n",
      "Precision is ::  0.7894438101880717\n",
      "Recall is ::  0.7894333333333333\n",
      "F1_score ::  0.7894183081171982\n",
      "------------Different score for Cross Validation of the RandomForestClassifier\n",
      "The accuracy score [0.85155 0.84745 0.84585]\n",
      "The mean of scores =  0.8482833333333334\n",
      "The Standard Daviation of scores =  0.002400462918318523\n",
      "Accuracy is ::  0.8482833333333334\n",
      "Precision is ::  0.8482875291253137\n",
      "Recall is ::  0.8482833333333333\n",
      "F1_score ::  0.8452574403288833\n",
      "------------Different score for Cross Validation of the Ensemble (Voting Classifier)\n",
      "The accuracy score [0.86535 0.8652  0.8603 ]\n",
      "The mean of scores =  0.8636166666666667\n",
      "The Standard Daviation of scores =  0.002346036847299911\n",
      "Accuracy is ::  0.8636166666666667\n",
      "Precision is ::  0.8619820448403134\n",
      "Recall is ::  0.8636166666666667\n",
      "F1_score ::  0.8619054772278224\n"
     ]
    }
   ],
   "source": [
    "print (\"------------Different score for Cross Validation of SGDClassifier\")\n",
    "display_scores(sgd_cv_scores)\n",
    "print (\"Accuracy :: \", sgd_cv_accuracy)\n",
    "print (\"Precision is :: \" , sgd_cv_precision)\n",
    "print (\"Recall is :: \" , sgd_cv_recall)\n",
    "print (\"F1_score :: \" , sgd_cv_f1_score)\n",
    "\n",
    "print (\"------------Different score for Cross Validation of the Softmax Logistis Regression\")\n",
    "display_scores(log_cv_scores)\n",
    "print (\"Accuracy is :: \" , log_cv_accuracy)\n",
    "print (\"Precision is :: \" , log_cv_precision)\n",
    "print (\"Recall is :: \" , log_cv_recall)\n",
    "print (\"F1_score :: \" , log_cv_f1_score)\n",
    "\n",
    "print (\"------------Different score for Cross Validation of the DecisionTreeClassifier\")\n",
    "display_scores(dec_tree_cv_scores)\n",
    "print (\"Accuracy :: \" , dec_tree_cv_accuracy)\n",
    "print (\"Precision is :: \" , dec_tree_cv_precision)\n",
    "print (\"Recall is :: \" , dec_tree_cv_recall)\n",
    "print (\"F1_score :: \" , dec_tree_cv_f1_score)\n",
    "\n",
    "print (\"------------Different score for Cross Validation of the RandomForestClassifier\")\n",
    "display_scores(rnd_cv_scores)\n",
    "print (\"Accuracy is :: \" , rnd_cv_accuracy)\n",
    "print (\"Precision is :: \" , rnd_cv_precision)\n",
    "print (\"Recall is :: \" , rnd_cv_recall)\n",
    "print (\"F1_score :: \" , rnd_cv_f1_score)\n",
    "\n",
    "\n",
    "print (\"------------Different score for Cross Validation of the Ensemble (Voting Classifier)\")\n",
    "display_scores(voting_cv_scores)\n",
    "print (\"Accuracy is :: \" , voting_cv_accuracy)\n",
    "print (\"Precision is :: \" , voting_cv_precision)\n",
    "print (\"Recall is :: \" , voting_cv_recall)\n",
    "print (\"F1_score :: \" , voting_cv_f1_score)\n"
   ]
  },
  {
   "cell_type": "markdown",
   "metadata": {},
   "source": [
    "#### Fine-Tuning the Model - Grid Search - Dimensionality Reduction"
   ]
  },
  {
   "cell_type": "code",
   "execution_count": 132,
   "metadata": {},
   "outputs": [],
   "source": [
    "from sklearn.decomposition import PCA"
   ]
  },
  {
   "cell_type": "code",
   "execution_count": 133,
   "metadata": {},
   "outputs": [],
   "source": [
    "pca = PCA(n_components=0.99 )"
   ]
  },
  {
   "cell_type": "code",
   "execution_count": 134,
   "metadata": {},
   "outputs": [],
   "source": [
    "X_train_reduced = pca.fit_transform(X_train)\n"
   ]
  },
  {
   "cell_type": "code",
   "execution_count": 135,
   "metadata": {},
   "outputs": [
    {
     "data": {
      "text/plain": [
       "459"
      ]
     },
     "execution_count": 135,
     "metadata": {},
     "output_type": "execute_result"
    }
   ],
   "source": [
    "pca.n_components_"
   ]
  },
  {
   "cell_type": "code",
   "execution_count": 136,
   "metadata": {},
   "outputs": [
    {
     "data": {
      "text/plain": [
       "0.9900347820630976"
      ]
     },
     "execution_count": 136,
     "metadata": {},
     "output_type": "execute_result"
    }
   ],
   "source": [
    "np.sum(pca.explained_variance_ratio_)"
   ]
  },
  {
   "cell_type": "code",
   "execution_count": 137,
   "metadata": {},
   "outputs": [],
   "source": [
    "X_train_recovered = pca.inverse_transform(X_train_reduced)"
   ]
  },
  {
   "cell_type": "code",
   "execution_count": 138,
   "metadata": {},
   "outputs": [
    {
     "data": {
      "image/png": "[encoded data removed]",
      "text/plain": [
       "<Figure size 504x288 with 2 Axes>"
      ]
     },
     "metadata": {
      "needs_background": "light"
     },
     "output_type": "display_data"
    }
   ],
   "source": [
    "import matplotlib\n",
    "import matplotlib.pyplot as plt\n",
    "\n",
    "def plot_digits(instances, images_per_row=5, **options):\n",
    "    size = 28\n",
    "    images_per_row = min(len(instances), images_per_row)\n",
    "    images = [instance.reshape(size,size) for instance in instances]\n",
    "    n_rows = (len(instances) - 1) // images_per_row + 1\n",
    "    row_images = []\n",
    "    n_empty = n_rows * images_per_row - len(instances)\n",
    "    images.append(np.zeros((size, size * n_empty)))\n",
    "    for row in range(n_rows):\n",
    "        rimages = images[row * images_per_row : (row + 1) * images_per_row]\n",
    "        row_images.append(np.concatenate(rimages, axis=1))\n",
    "    image = np.concatenate(row_images, axis=0)\n",
    "    plt.imshow(image, cmap = matplotlib.cm.binary, **options)\n",
    "    plt.axis(\"off\")\n",
    "\n",
    "plt.figure(figsize=(7, 4))\n",
    "plt.subplot(121)\n",
    "# Plotting 'original' image\n",
    "plot_digits(X_train[::2100])\n",
    "plt.title(\"Original\", fontsize=16)\n",
    "plt.subplot(122)\n",
    "# Plotting the corresponding 'recovered' image\n",
    "plot_digits(X_train_recovered[::2100])\n",
    "plt.title(\"Compressed\", fontsize=16)\n",
    "plt.show()"
   ]
  },
  {
   "cell_type": "markdown",
   "metadata": {},
   "source": [
    "#### Grid Search - Tuning Hyperparameters"
   ]
  },
  {
   "cell_type": "code",
   "execution_count": 139,
   "metadata": {},
   "outputs": [],
   "source": [
    "from sklearn.model_selection import GridSearchCV"
   ]
  },
  {
   "cell_type": "code",
   "execution_count": 140,
   "metadata": {},
   "outputs": [],
   "source": [
    "param_grid = [\n",
    "    {\n",
    "        \"lr__multi_class\":[\"multinomial\"],\n",
    "        \"lr__solver\":[\"lbfgs\"],\n",
    "        \"lr__C\":[5],\n",
    "        \"rf__n_estimators\":[20],\n",
    "        \"rf__max_depth\":[10,15],\n",
    "    }]"
   ]
  },
  {
   "cell_type": "code",
   "execution_count": 141,
   "metadata": {},
   "outputs": [],
   "source": [
    "log_clf_ens = LogisticRegression(multi_class=\"multinomial\", solver=\"lbfgs\", C=10 , random_state=42)\n"
   ]
  },
  {
   "cell_type": "code",
   "execution_count": 142,
   "metadata": {},
   "outputs": [],
   "source": [
    "rnd_clf_ens = RandomForestClassifier(n_estimators=20, max_depth=10 , random_state=42)\n"
   ]
  },
  {
   "cell_type": "code",
   "execution_count": 143,
   "metadata": {},
   "outputs": [],
   "source": [
    "voting_clf_grid_search = VotingClassifier(\n",
    "    estimators=[('lr', log_clf_ens), ('rf', rnd_clf_ens)],\n",
    "    voting='soft')"
   ]
  },
  {
   "cell_type": "code",
   "execution_count": 144,
   "metadata": {},
   "outputs": [],
   "source": [
    "grid_search = GridSearchCV(voting_clf_grid_search, param_grid, cv=3, scoring='neg_mean_squared_error')"
   ]
  },
  {
   "cell_type": "code",
   "execution_count": 145,
   "metadata": {},
   "outputs": [
    {
     "name": "stderr",
     "output_type": "stream",
     "text": [
      "/anaconda3/lib/python3.7/site-packages/sklearn/linear_model/logistic.py:758: ConvergenceWarning: lbfgs failed to converge. Increase the number of iterations.\n",
      "  \"of iterations.\", ConvergenceWarning)\n",
      "/anaconda3/lib/python3.7/site-packages/sklearn/linear_model/logistic.py:758: ConvergenceWarning: lbfgs failed to converge. Increase the number of iterations.\n",
      "  \"of iterations.\", ConvergenceWarning)\n",
      "/anaconda3/lib/python3.7/site-packages/sklearn/linear_model/logistic.py:758: ConvergenceWarning: lbfgs failed to converge. Increase the number of iterations.\n",
      "  \"of iterations.\", ConvergenceWarning)\n",
      "/anaconda3/lib/python3.7/site-packages/sklearn/linear_model/logistic.py:758: ConvergenceWarning: lbfgs failed to converge. Increase the number of iterations.\n",
      "  \"of iterations.\", ConvergenceWarning)\n",
      "/anaconda3/lib/python3.7/site-packages/sklearn/linear_model/logistic.py:758: ConvergenceWarning: lbfgs failed to converge. Increase the number of iterations.\n",
      "  \"of iterations.\", ConvergenceWarning)\n",
      "/anaconda3/lib/python3.7/site-packages/sklearn/linear_model/logistic.py:758: ConvergenceWarning: lbfgs failed to converge. Increase the number of iterations.\n",
      "  \"of iterations.\", ConvergenceWarning)\n",
      "/anaconda3/lib/python3.7/site-packages/sklearn/linear_model/logistic.py:758: ConvergenceWarning: lbfgs failed to converge. Increase the number of iterations.\n",
      "  \"of iterations.\", ConvergenceWarning)\n"
     ]
    },
    {
     "data": {
      "text/plain": [
       "GridSearchCV(cv=3, error_score='raise-deprecating',\n",
       "       estimator=VotingClassifier(estimators=[('lr', LogisticRegression(C=10, class_weight=None, dual=False, fit_intercept=True,\n",
       "          intercept_scaling=1, max_iter=100, multi_class='multinomial',\n",
       "          n_jobs=None, penalty='l2', random_state=42, solver='lbfgs',\n",
       "          tol=0.0001, verbose=0, war...e=0, warm_start=False))],\n",
       "         flatten_transform=None, n_jobs=None, voting='soft', weights=None),\n",
       "       fit_params=None, iid='warn', n_jobs=None,\n",
       "       param_grid=[{'lr__multi_class': ['multinomial'], 'lr__solver': ['lbfgs'], 'lr__C': [5], 'rf__n_estimators': [20], 'rf__max_depth': [10, 15]}],\n",
       "       pre_dispatch='2*n_jobs', refit=True, return_train_score='warn',\n",
       "       scoring='neg_mean_squared_error', verbose=0)"
      ]
     },
     "execution_count": 145,
     "metadata": {},
     "output_type": "execute_result"
    }
   ],
   "source": [
    "grid_search.fit(X_train_reduced, y_train)"
   ]
  },
  {
   "cell_type": "code",
   "execution_count": 146,
   "metadata": {},
   "outputs": [
    {
     "data": {
      "text/plain": [
       "{'lr__C': 5,\n",
       " 'lr__multi_class': 'multinomial',\n",
       " 'lr__solver': 'lbfgs',\n",
       " 'rf__max_depth': 15,\n",
       " 'rf__n_estimators': 20}"
      ]
     },
     "execution_count": 146,
     "metadata": {},
     "output_type": "execute_result"
    }
   ],
   "source": [
    "grid_search.best_params_"
   ]
  },
  {
   "cell_type": "code",
   "execution_count": 147,
   "metadata": {},
   "outputs": [
    {
     "data": {
      "text/plain": [
       "VotingClassifier(estimators=[('lr', LogisticRegression(C=5, class_weight=None, dual=False, fit_intercept=True,\n",
       "          intercept_scaling=1, max_iter=100, multi_class='multinomial',\n",
       "          n_jobs=None, penalty='l2', random_state=42, solver='lbfgs',\n",
       "          tol=0.0001, verbose=0, warm_start=False)), ('rf', Rand...mators=20, n_jobs=None,\n",
       "            oob_score=False, random_state=42, verbose=0, warm_start=False))],\n",
       "         flatten_transform=None, n_jobs=None, voting='soft', weights=None)"
      ]
     },
     "execution_count": 147,
     "metadata": {},
     "output_type": "execute_result"
    }
   ],
   "source": [
    "grid_search.best_estimator_"
   ]
  },
  {
   "cell_type": "code",
   "execution_count": 148,
   "metadata": {},
   "outputs": [
    {
     "name": "stdout",
     "output_type": "stream",
     "text": [
      "1.380380382358428 {'lr__C': 5, 'lr__multi_class': 'multinomial', 'lr__solver': 'lbfgs', 'rf__max_depth': 10, 'rf__n_estimators': 20}\n",
      "1.3714651532819442 {'lr__C': 5, 'lr__multi_class': 'multinomial', 'lr__solver': 'lbfgs', 'rf__max_depth': 15, 'rf__n_estimators': 20}\n"
     ]
    }
   ],
   "source": [
    "cvres = grid_search.cv_results_\n",
    "for mean_score, params in zip(cvres[\"mean_test_score\"], cvres[\"params\"]):\n",
    "    print(np.sqrt(-mean_score), params)"
   ]
  },
  {
   "cell_type": "code",
   "execution_count": 149,
   "metadata": {},
   "outputs": [],
   "source": [
    "final_model = grid_search.best_estimator_"
   ]
  },
  {
   "cell_type": "code",
   "execution_count": 150,
   "metadata": {},
   "outputs": [],
   "source": [
    "X_test_reduced = pca.transform(X_test)"
   ]
  },
  {
   "cell_type": "code",
   "execution_count": 151,
   "metadata": {},
   "outputs": [],
   "source": [
    "y_test_predict = final_model.predict(X_test_reduced)"
   ]
  },
  {
   "cell_type": "code",
   "execution_count": 152,
   "metadata": {},
   "outputs": [],
   "source": [
    "final_accuracy = accuracy_score(y_test,y_test_predict)\n",
    "final_precision = precision_score(y_test, y_test_predict, average='weighted')\n",
    "final_recall = recall_score(y_test, y_test_predict, average='weighted')\n",
    "final_f1_score = f1_score(y_test,y_test_predict, average='weighted')"
   ]
  },
  {
   "cell_type": "code",
   "execution_count": 153,
   "metadata": {},
   "outputs": [
    {
     "data": {
      "image/png": "[encoded data removed]",
      "text/plain": [
       "<Figure size 432x288 with 1 Axes>"
      ]
     },
     "metadata": {
      "needs_background": "light"
     },
     "output_type": "display_data"
    }
   ],
   "source": [
    "y_test[0]\n",
    "\n",
    "y_test_predict[0]\n",
    "\n",
    "showImage(X_test[0])"
   ]
  },
  {
   "cell_type": "code",
   "execution_count": 154,
   "metadata": {},
   "outputs": [
    {
     "data": {
      "text/plain": [
       "(10000, 459)"
      ]
     },
     "execution_count": 154,
     "metadata": {},
     "output_type": "execute_result"
    }
   ],
   "source": [
    "X_test_reduced.shape"
   ]
  },
  {
   "cell_type": "code",
   "execution_count": null,
   "metadata": {},
   "outputs": [],
   "source": []
  }
 ],
 "metadata": {
  "kernelspec": {
   "display_name": "Python 3",
   "language": "python",
   "name": "python3"
  },
  "language_info": {
   "codemirror_mode": {
    "name": "ipython",
    "version": 3
   },
   "file_extension": ".py",
   "mimetype": "text/x-python",
   "name": "python",
   "nbconvert_exporter": "python",
   "pygments_lexer": "ipython3",
   "version": "3.7.1"
  },
  "toc": {
   "base_numbering": 1,
   "nav_menu": {},
   "number_sections": true,
   "sideBar": true,
   "skip_h1_title": false,
   "title_cell": "Table of Contents",
   "title_sidebar": "Contents",
   "toc_cell": false,
   "toc_position": {},
   "toc_section_display": true,
   "toc_window_display": false
  }
 },
 "nbformat": 4,
 "nbformat_minor": 2
}
